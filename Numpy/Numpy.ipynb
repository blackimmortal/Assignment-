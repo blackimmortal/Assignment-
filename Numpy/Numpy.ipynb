{
 "cells": [
  {
   "cell_type": "markdown",
   "id": "756b2ad2",
   "metadata": {},
   "source": [
    "## Numpy\n",
    "- NumPy is a genral purpose array-processing package.\n",
    "- NumPy was created to work with multidaimensional array.\n",
    "- It is fundamental package for scintific computing computer.\n",
    "- It is open source library."
   ]
  },
  {
   "cell_type": "markdown",
   "id": "9c265484",
   "metadata": {},
   "source": [
    "# Why use NumPy ?\n",
    "- In python we have list that serv the purpose of array, but they are slow to proceiss.\n",
    "- NumPy  aims to provide an array object that is up to 50X  faster than traditional Python list.\n",
    "- The array object in NumPy is called ndarray, it is provoding a lots of supporting function that make working with ndarray very easy.\n",
    "- Arrays are very frequently used in data science , where speed and resource are very important."
   ]
  },
  {
   "cell_type": "code",
   "execution_count": 5,
   "id": "9ed91708",
   "metadata": {
    "ExecuteTime": {
     "end_time": "2024-02-08T06:39:28.054867Z",
     "start_time": "2024-02-08T06:39:15.152265Z"
    }
   },
   "outputs": [
    {
     "name": "stdout",
     "output_type": "stream",
     "text": [
      "Requirement already satisfied: numpy in c:\\users\\shri\\anaconda3\\lib\\site-packages (1.24.3)\n"
     ]
    }
   ],
   "source": [
    "# imorting necessary library\n",
    "\n",
    "!pip install numpy\n",
    "\n",
    "import numpy as np"
   ]
  },
  {
   "cell_type": "code",
   "execution_count": 8,
   "id": "83dfd46a",
   "metadata": {
    "ExecuteTime": {
     "end_time": "2024-02-08T06:49:13.720158Z",
     "start_time": "2024-02-08T06:49:13.704340Z"
    }
   },
   "outputs": [
    {
     "data": {
      "text/plain": [
       "numpy.ndarray"
      ]
     },
     "execution_count": 8,
     "metadata": {},
     "output_type": "execute_result"
    }
   ],
   "source": [
    "#Array creation\n",
    "a = np.array(10)\n",
    "type(a)"
   ]
  },
  {
   "cell_type": "code",
   "execution_count": 14,
   "id": "4cc4ccd7",
   "metadata": {
    "ExecuteTime": {
     "end_time": "2024-02-08T06:51:34.783909Z",
     "start_time": "2024-02-08T06:51:34.779487Z"
    }
   },
   "outputs": [],
   "source": [
    "#zero daimainsional array"
   ]
  },
  {
   "cell_type": "code",
   "execution_count": 10,
   "id": "adf7af31",
   "metadata": {
    "ExecuteTime": {
     "end_time": "2024-02-08T06:49:56.177628Z",
     "start_time": "2024-02-08T06:49:56.171982Z"
    }
   },
   "outputs": [],
   "source": [
    "z = np.array(10)"
   ]
  },
  {
   "cell_type": "code",
   "execution_count": 12,
   "id": "b7ede779",
   "metadata": {
    "ExecuteTime": {
     "end_time": "2024-02-08T06:50:35.070508Z",
     "start_time": "2024-02-08T06:50:35.062484Z"
    }
   },
   "outputs": [
    {
     "data": {
      "text/plain": [
       "0"
      ]
     },
     "execution_count": 12,
     "metadata": {},
     "output_type": "execute_result"
    }
   ],
   "source": [
    "z.ndim"
   ]
  },
  {
   "cell_type": "code",
   "execution_count": 15,
   "id": "0338299c",
   "metadata": {
    "ExecuteTime": {
     "end_time": "2024-02-08T06:51:43.124344Z",
     "start_time": "2024-02-08T06:51:43.119234Z"
    }
   },
   "outputs": [],
   "source": [
    "#one daimainsional array"
   ]
  },
  {
   "cell_type": "code",
   "execution_count": 16,
   "id": "f4dc6f23",
   "metadata": {
    "ExecuteTime": {
     "end_time": "2024-02-08T06:52:13.306742Z",
     "start_time": "2024-02-08T06:52:13.301611Z"
    }
   },
   "outputs": [],
   "source": [
    "o = np.array([10,20,30,40])"
   ]
  },
  {
   "cell_type": "code",
   "execution_count": 17,
   "id": "be97c683",
   "metadata": {
    "ExecuteTime": {
     "end_time": "2024-02-08T06:52:29.951469Z",
     "start_time": "2024-02-08T06:52:29.942579Z"
    }
   },
   "outputs": [
    {
     "data": {
      "text/plain": [
       "1"
      ]
     },
     "execution_count": 17,
     "metadata": {},
     "output_type": "execute_result"
    }
   ],
   "source": [
    "o.ndim"
   ]
  },
  {
   "cell_type": "code",
   "execution_count": 18,
   "id": "a5ca9424",
   "metadata": {
    "ExecuteTime": {
     "end_time": "2024-02-08T06:52:52.331751Z",
     "start_time": "2024-02-08T06:52:52.326767Z"
    }
   },
   "outputs": [],
   "source": [
    "#two daimainsional array "
   ]
  },
  {
   "cell_type": "code",
   "execution_count": 19,
   "id": "406ca317",
   "metadata": {
    "ExecuteTime": {
     "end_time": "2024-02-08T06:53:17.550426Z",
     "start_time": "2024-02-08T06:53:17.544634Z"
    }
   },
   "outputs": [],
   "source": [
    "t = np.array([[60,70,80,90]])"
   ]
  },
  {
   "cell_type": "code",
   "execution_count": 20,
   "id": "4b2d1514",
   "metadata": {
    "ExecuteTime": {
     "end_time": "2024-02-08T06:53:30.250047Z",
     "start_time": "2024-02-08T06:53:30.242284Z"
    }
   },
   "outputs": [
    {
     "data": {
      "text/plain": [
       "2"
      ]
     },
     "execution_count": 20,
     "metadata": {},
     "output_type": "execute_result"
    }
   ],
   "source": [
    "t.ndim"
   ]
  },
  {
   "cell_type": "code",
   "execution_count": 21,
   "id": "13c4da7a",
   "metadata": {
    "ExecuteTime": {
     "end_time": "2024-02-08T06:54:24.794530Z",
     "start_time": "2024-02-08T06:54:24.790029Z"
    }
   },
   "outputs": [],
   "source": [
    "# Three daimainsional array"
   ]
  },
  {
   "cell_type": "code",
   "execution_count": 22,
   "id": "faea7a34",
   "metadata": {
    "ExecuteTime": {
     "end_time": "2024-02-08T06:55:59.652855Z",
     "start_time": "2024-02-08T06:55:59.646941Z"
    }
   },
   "outputs": [],
   "source": [
    "th = np.array([[[11,22,44,33,55]]])"
   ]
  },
  {
   "cell_type": "code",
   "execution_count": 23,
   "id": "0d68d5f9",
   "metadata": {
    "ExecuteTime": {
     "end_time": "2024-02-08T06:56:10.695567Z",
     "start_time": "2024-02-08T06:56:10.687467Z"
    }
   },
   "outputs": [
    {
     "data": {
      "text/plain": [
       "3"
      ]
     },
     "execution_count": 23,
     "metadata": {},
     "output_type": "execute_result"
    }
   ],
   "source": [
    "th.ndim"
   ]
  },
  {
   "cell_type": "code",
   "execution_count": 24,
   "id": "22932cf0",
   "metadata": {
    "ExecuteTime": {
     "end_time": "2024-02-08T06:57:22.569474Z",
     "start_time": "2024-02-08T06:57:22.564009Z"
    }
   },
   "outputs": [],
   "source": [
    "# Change the datd type of array element"
   ]
  },
  {
   "cell_type": "code",
   "execution_count": 25,
   "id": "5f882b62",
   "metadata": {
    "ExecuteTime": {
     "end_time": "2024-02-08T07:00:15.082851Z",
     "start_time": "2024-02-08T07:00:15.077104Z"
    }
   },
   "outputs": [],
   "source": [
    "b = np.array([10,20,30,40])"
   ]
  },
  {
   "cell_type": "code",
   "execution_count": 27,
   "id": "c8dd873b",
   "metadata": {
    "ExecuteTime": {
     "end_time": "2024-02-08T07:00:39.531736Z",
     "start_time": "2024-02-08T07:00:39.524148Z"
    }
   },
   "outputs": [
    {
     "data": {
      "text/plain": [
       "dtype('int32')"
      ]
     },
     "execution_count": 27,
     "metadata": {},
     "output_type": "execute_result"
    }
   ],
   "source": [
    "b.dtype"
   ]
  },
  {
   "cell_type": "code",
   "execution_count": 28,
   "id": "34f7643d",
   "metadata": {
    "ExecuteTime": {
     "end_time": "2024-02-08T07:04:21.475323Z",
     "start_time": "2024-02-08T07:04:21.469576Z"
    }
   },
   "outputs": [],
   "source": [
    "b = np.array([10,20,30,40], dtype = float)"
   ]
  },
  {
   "cell_type": "code",
   "execution_count": 29,
   "id": "58e41614",
   "metadata": {
    "ExecuteTime": {
     "end_time": "2024-02-08T07:05:06.255917Z",
     "start_time": "2024-02-08T07:05:06.247814Z"
    }
   },
   "outputs": [
    {
     "data": {
      "text/plain": [
       "dtype('float64')"
      ]
     },
     "execution_count": 29,
     "metadata": {},
     "output_type": "execute_result"
    }
   ],
   "source": [
    "b.dtype"
   ]
  },
  {
   "cell_type": "code",
   "execution_count": 30,
   "id": "f2f73760",
   "metadata": {
    "ExecuteTime": {
     "end_time": "2024-02-08T07:05:13.047378Z",
     "start_time": "2024-02-08T07:05:13.031389Z"
    }
   },
   "outputs": [
    {
     "data": {
      "text/plain": [
       "array([10., 20., 30., 40.])"
      ]
     },
     "execution_count": 30,
     "metadata": {},
     "output_type": "execute_result"
    }
   ],
   "source": [
    "b"
   ]
  },
  {
   "cell_type": "code",
   "execution_count": 32,
   "id": "19375516",
   "metadata": {
    "ExecuteTime": {
     "end_time": "2024-02-08T07:06:31.548201Z",
     "start_time": "2024-02-08T07:06:31.543767Z"
    }
   },
   "outputs": [],
   "source": [
    "#for multiple output write Print for each statment"
   ]
  },
  {
   "cell_type": "markdown",
   "id": "57757e21",
   "metadata": {
    "ExecuteTime": {
     "end_time": "2024-02-08T07:07:29.862378Z",
     "start_time": "2024-02-08T07:07:29.851610Z"
    }
   },
   "source": []
  },
  {
   "cell_type": "code",
   "execution_count": 34,
   "id": "3cdbd98f",
   "metadata": {
    "ExecuteTime": {
     "end_time": "2024-02-08T09:11:43.505154Z",
     "start_time": "2024-02-08T09:11:43.494055Z"
    }
   },
   "outputs": [
    {
     "name": "stdout",
     "output_type": "stream",
     "text": [
      "float64\n"
     ]
    },
    {
     "data": {
      "text/plain": [
       "array([10., 20., 30., 40.])"
      ]
     },
     "execution_count": 34,
     "metadata": {},
     "output_type": "execute_result"
    }
   ],
   "source": [
    "b = np.array([10,20,30,40], dtype = float)\n",
    "print(b.dtype)\n",
    "b"
   ]
  },
  {
   "cell_type": "markdown",
   "id": "edc1a568",
   "metadata": {},
   "source": [
    "# Others way of creating array \n",
    "1. arange\n",
    "2. linspace\n",
    "3. zeros\n",
    "4. ones\n",
    "5. randoms"
   ]
  },
  {
   "cell_type": "code",
   "execution_count": 36,
   "id": "add5dbac",
   "metadata": {
    "ExecuteTime": {
     "end_time": "2024-02-08T10:18:50.397983Z",
     "start_time": "2024-02-08T10:18:50.376115Z"
    }
   },
   "outputs": [
    {
     "data": {
      "text/plain": [
       "array([ 1,  3,  5,  7,  9, 11, 13, 15, 17, 19])"
      ]
     },
     "execution_count": 36,
     "metadata": {},
     "output_type": "execute_result"
    }
   ],
   "source": [
    "a = np.arange(1,21,2)\n",
    "a"
   ]
  },
  {
   "cell_type": "code",
   "execution_count": 39,
   "id": "b23ba586",
   "metadata": {
    "ExecuteTime": {
     "end_time": "2024-02-08T10:21:03.012845Z",
     "start_time": "2024-02-08T10:21:02.999136Z"
    }
   },
   "outputs": [
    {
     "data": {
      "text/plain": [
       "array([1.        , 1.28571429, 1.57142857, 1.85714286, 2.14285714,\n",
       "       2.42857143, 2.71428571, 3.        , 3.28571429, 3.57142857,\n",
       "       3.85714286, 4.14285714, 4.42857143, 4.71428571, 5.        ])"
      ]
     },
     "execution_count": 39,
     "metadata": {},
     "output_type": "execute_result"
    }
   ],
   "source": [
    "b = np.linspace(1,5,15,)\n",
    "b"
   ]
  },
  {
   "cell_type": "code",
   "execution_count": 37,
   "id": "0cef28b8",
   "metadata": {
    "ExecuteTime": {
     "end_time": "2024-02-08T10:20:17.713592Z",
     "start_time": "2024-02-08T10:20:17.697136Z"
    }
   },
   "outputs": [
    {
     "data": {
      "text/plain": [
       "(array([1.        , 1.28571429, 1.57142857, 1.85714286, 2.14285714,\n",
       "        2.42857143, 2.71428571, 3.        , 3.28571429, 3.57142857,\n",
       "        3.85714286, 4.14285714, 4.42857143, 4.71428571, 5.        ]),\n",
       " 0.2857142857142857)"
      ]
     },
     "execution_count": 37,
     "metadata": {},
     "output_type": "execute_result"
    }
   ],
   "source": [
    "b = np.linspace(1,5,15, retstep= True)\n",
    "b"
   ]
  },
  {
   "cell_type": "code",
   "execution_count": 41,
   "id": "8f2abb89",
   "metadata": {
    "ExecuteTime": {
     "end_time": "2024-02-08T10:22:08.349796Z",
     "start_time": "2024-02-08T10:22:08.333642Z"
    }
   },
   "outputs": [
    {
     "data": {
      "text/plain": [
       "array([[0., 0.],\n",
       "       [0., 0.]])"
      ]
     },
     "execution_count": 41,
     "metadata": {},
     "output_type": "execute_result"
    }
   ],
   "source": [
    "z = np.zeros([2,2])\n",
    "z"
   ]
  },
  {
   "cell_type": "code",
   "execution_count": 43,
   "id": "7c339788",
   "metadata": {
    "ExecuteTime": {
     "end_time": "2024-02-08T10:22:45.540673Z",
     "start_time": "2024-02-08T10:22:45.523700Z"
    }
   },
   "outputs": [
    {
     "data": {
      "text/plain": [
       "array([[1., 1., 1., 1., 1.],\n",
       "       [1., 1., 1., 1., 1.],\n",
       "       [1., 1., 1., 1., 1.],\n",
       "       [1., 1., 1., 1., 1.],\n",
       "       [1., 1., 1., 1., 1.]])"
      ]
     },
     "execution_count": 43,
     "metadata": {},
     "output_type": "execute_result"
    }
   ],
   "source": [
    "o = np.ones([5,5])\n",
    "o"
   ]
  },
  {
   "cell_type": "markdown",
   "id": "f5b1fb81",
   "metadata": {
    "ExecuteTime": {
     "end_time": "2024-02-08T10:24:15.647347Z",
     "start_time": "2024-02-08T10:24:15.633025Z"
    }
   },
   "source": [
    "r = np.random.rand(5,5)\n",
    "r"
   ]
  },
  {
   "cell_type": "code",
   "execution_count": 46,
   "id": "003769ed",
   "metadata": {
    "ExecuteTime": {
     "end_time": "2024-02-08T10:25:51.708517Z",
     "start_time": "2024-02-08T10:25:51.692589Z"
    }
   },
   "outputs": [
    {
     "data": {
      "text/plain": [
       "array([0, 0, 4, 4, 0, 0, 4, 0, 4, 1])"
      ]
     },
     "execution_count": 46,
     "metadata": {},
     "output_type": "execute_result"
    }
   ],
   "source": [
    "r = np.random.randint(5, size = 10)\n",
    "r"
   ]
  },
  {
   "cell_type": "markdown",
   "id": "e5770e43",
   "metadata": {},
   "source": [
    "# Slicing and indexing of Arrays "
   ]
  },
  {
   "cell_type": "code",
   "execution_count": 48,
   "id": "528657b7",
   "metadata": {
    "ExecuteTime": {
     "end_time": "2024-02-08T10:31:03.738706Z",
     "start_time": "2024-02-08T10:31:03.725026Z"
    }
   },
   "outputs": [
    {
     "data": {
      "text/plain": [
       "array([[1, 2, 3],\n",
       "       [4, 5, 6]])"
      ]
     },
     "execution_count": 48,
     "metadata": {},
     "output_type": "execute_result"
    }
   ],
   "source": [
    "a = np.array([[1,2,3],[4,5,6]])\n",
    "a"
   ]
  },
  {
   "cell_type": "code",
   "execution_count": 49,
   "id": "072e4700",
   "metadata": {
    "ExecuteTime": {
     "end_time": "2024-02-08T10:31:24.910139Z",
     "start_time": "2024-02-08T10:31:24.890264Z"
    }
   },
   "outputs": [
    {
     "data": {
      "text/plain": [
       "1"
      ]
     },
     "execution_count": 49,
     "metadata": {},
     "output_type": "execute_result"
    }
   ],
   "source": [
    "a[0,0]"
   ]
  },
  {
   "cell_type": "code",
   "execution_count": 50,
   "id": "2fe55818",
   "metadata": {
    "ExecuteTime": {
     "end_time": "2024-02-08T10:31:39.803160Z",
     "start_time": "2024-02-08T10:31:39.794535Z"
    }
   },
   "outputs": [
    {
     "data": {
      "text/plain": [
       "6"
      ]
     },
     "execution_count": 50,
     "metadata": {},
     "output_type": "execute_result"
    }
   ],
   "source": [
    "a[1,2]"
   ]
  },
  {
   "cell_type": "code",
   "execution_count": 51,
   "id": "9b5c38d6",
   "metadata": {
    "ExecuteTime": {
     "end_time": "2024-02-08T10:31:45.338716Z",
     "start_time": "2024-02-08T10:31:45.322475Z"
    }
   },
   "outputs": [
    {
     "data": {
      "text/plain": [
       "array([[1, 2, 3],\n",
       "       [4, 5, 6]])"
      ]
     },
     "execution_count": 51,
     "metadata": {},
     "output_type": "execute_result"
    }
   ],
   "source": [
    "a"
   ]
  },
  {
   "cell_type": "code",
   "execution_count": 52,
   "id": "435f233e",
   "metadata": {
    "ExecuteTime": {
     "end_time": "2024-02-08T10:32:09.722673Z",
     "start_time": "2024-02-08T10:32:09.712352Z"
    }
   },
   "outputs": [
    {
     "data": {
      "text/plain": [
       "array([2, 3])"
      ]
     },
     "execution_count": 52,
     "metadata": {},
     "output_type": "execute_result"
    }
   ],
   "source": [
    "a[0,1:]"
   ]
  },
  {
   "cell_type": "code",
   "execution_count": 53,
   "id": "a37f29bd",
   "metadata": {
    "ExecuteTime": {
     "end_time": "2024-02-08T10:32:34.410863Z",
     "start_time": "2024-02-08T10:32:34.392335Z"
    }
   },
   "outputs": [
    {
     "data": {
      "text/plain": [
       "array([[2, 3],\n",
       "       [5, 6]])"
      ]
     },
     "execution_count": 53,
     "metadata": {},
     "output_type": "execute_result"
    }
   ],
   "source": [
    "a[0:,1:]"
   ]
  },
  {
   "cell_type": "code",
   "execution_count": 54,
   "id": "8b2eb09f",
   "metadata": {
    "ExecuteTime": {
     "end_time": "2024-02-08T10:33:20.024648Z",
     "start_time": "2024-02-08T10:33:20.013296Z"
    }
   },
   "outputs": [
    {
     "data": {
      "text/plain": [
       "array([[1, 2, 3],\n",
       "       [4, 5, 6]])"
      ]
     },
     "execution_count": 54,
     "metadata": {},
     "output_type": "execute_result"
    }
   ],
   "source": [
    "a"
   ]
  },
  {
   "cell_type": "code",
   "execution_count": 58,
   "id": "ca15d9e4",
   "metadata": {
    "ExecuteTime": {
     "end_time": "2024-02-08T10:36:30.592460Z",
     "start_time": "2024-02-08T10:36:30.578705Z"
    }
   },
   "outputs": [
    {
     "data": {
      "text/plain": [
       "array([1, 6])"
      ]
     },
     "execution_count": 58,
     "metadata": {},
     "output_type": "execute_result"
    }
   ],
   "source": [
    "#1 and 6\n",
    "a[[0,1],[0,2]]"
   ]
  },
  {
   "cell_type": "code",
   "execution_count": 59,
   "id": "2e383997",
   "metadata": {
    "ExecuteTime": {
     "end_time": "2024-02-08T10:37:38.190369Z",
     "start_time": "2024-02-08T10:37:38.177729Z"
    }
   },
   "outputs": [
    {
     "data": {
      "text/plain": [
       "array([3, 4])"
      ]
     },
     "execution_count": 59,
     "metadata": {},
     "output_type": "execute_result"
    }
   ],
   "source": [
    "#3 and 4 \n",
    "a[[0,1],[2,0]]"
   ]
  },
  {
   "cell_type": "markdown",
   "id": "698fd466",
   "metadata": {},
   "source": [
    "# Reshaping the arrays "
   ]
  },
  {
   "cell_type": "code",
   "execution_count": 61,
   "id": "2492bcc8",
   "metadata": {
    "ExecuteTime": {
     "end_time": "2024-02-08T10:38:34.208305Z",
     "start_time": "2024-02-08T10:38:34.197551Z"
    }
   },
   "outputs": [
    {
     "data": {
      "text/plain": [
       "array([[0.90059562, 0.22208809],\n",
       "       [0.7264553 , 0.48123431],\n",
       "       [0.48371738, 0.42877863],\n",
       "       [0.44089434, 0.992686  ],\n",
       "       [0.65542894, 0.59222541]])"
      ]
     },
     "execution_count": 61,
     "metadata": {},
     "output_type": "execute_result"
    }
   ],
   "source": [
    "a = np.random.rand(5,2)\n",
    "a"
   ]
  },
  {
   "cell_type": "code",
   "execution_count": 62,
   "id": "0d8cceba",
   "metadata": {
    "ExecuteTime": {
     "end_time": "2024-02-08T10:38:57.930909Z",
     "start_time": "2024-02-08T10:38:57.921141Z"
    }
   },
   "outputs": [
    {
     "data": {
      "text/plain": [
       "array([[0.90059562, 0.22208809, 0.7264553 , 0.48123431, 0.48371738],\n",
       "       [0.42877863, 0.44089434, 0.992686  , 0.65542894, 0.59222541]])"
      ]
     },
     "execution_count": 62,
     "metadata": {},
     "output_type": "execute_result"
    }
   ],
   "source": [
    "a.reshape(2,5)"
   ]
  },
  {
   "cell_type": "code",
   "execution_count": 63,
   "id": "42b1f871",
   "metadata": {
    "ExecuteTime": {
     "end_time": "2024-02-08T10:39:22.625278Z",
     "start_time": "2024-02-08T10:39:22.614114Z"
    }
   },
   "outputs": [
    {
     "data": {
      "text/plain": [
       "array([[0.90059562],\n",
       "       [0.22208809],\n",
       "       [0.7264553 ],\n",
       "       [0.48123431],\n",
       "       [0.48371738],\n",
       "       [0.42877863],\n",
       "       [0.44089434],\n",
       "       [0.992686  ],\n",
       "       [0.65542894],\n",
       "       [0.59222541]])"
      ]
     },
     "execution_count": 63,
     "metadata": {},
     "output_type": "execute_result"
    }
   ],
   "source": [
    "a.reshape(10,1)"
   ]
  },
  {
   "cell_type": "code",
   "execution_count": 64,
   "id": "a74f25e2",
   "metadata": {
    "ExecuteTime": {
     "end_time": "2024-02-08T10:39:38.015757Z",
     "start_time": "2024-02-08T10:39:38.005174Z"
    }
   },
   "outputs": [
    {
     "data": {
      "text/plain": [
       "array([[0.90059562, 0.22208809, 0.7264553 , 0.48123431, 0.48371738,\n",
       "        0.42877863, 0.44089434, 0.992686  , 0.65542894, 0.59222541]])"
      ]
     },
     "execution_count": 64,
     "metadata": {},
     "output_type": "execute_result"
    }
   ],
   "source": [
    "a.reshape(1,10)"
   ]
  },
  {
   "cell_type": "code",
   "execution_count": 65,
   "id": "97164994",
   "metadata": {
    "ExecuteTime": {
     "end_time": "2024-02-08T10:40:07.054698Z",
     "start_time": "2024-02-08T10:40:07.042064Z"
    }
   },
   "outputs": [
    {
     "data": {
      "text/plain": [
       "array([[0.90059562, 0.22208809],\n",
       "       [0.7264553 , 0.48123431],\n",
       "       [0.48371738, 0.42877863],\n",
       "       [0.44089434, 0.992686  ],\n",
       "       [0.65542894, 0.59222541]])"
      ]
     },
     "execution_count": 65,
     "metadata": {},
     "output_type": "execute_result"
    }
   ],
   "source": [
    "a.reshape(5,-1)"
   ]
  },
  {
   "cell_type": "code",
   "execution_count": 66,
   "id": "c0877c4e",
   "metadata": {
    "ExecuteTime": {
     "end_time": "2024-02-08T10:40:27.306209Z",
     "start_time": "2024-02-08T10:40:27.292090Z"
    }
   },
   "outputs": [
    {
     "data": {
      "text/plain": [
       "array([[0.90059562, 0.22208809, 0.7264553 , 0.48123431, 0.48371738],\n",
       "       [0.42877863, 0.44089434, 0.992686  , 0.65542894, 0.59222541]])"
      ]
     },
     "execution_count": 66,
     "metadata": {},
     "output_type": "execute_result"
    }
   ],
   "source": [
    "a.reshape(-1,5)"
   ]
  },
  {
   "cell_type": "markdown",
   "id": "df1d4b1c",
   "metadata": {},
   "source": [
    "# Aggricate function \n",
    "- The Python NumPy aggricate function are sum,min,max,mean,avarage,product,stadard deviation,variance,percentile,corrcoef."
   ]
  },
  {
   "cell_type": "code",
   "execution_count": 67,
   "id": "cf73b89d",
   "metadata": {
    "ExecuteTime": {
     "end_time": "2024-02-08T10:42:21.826164Z",
     "start_time": "2024-02-08T10:42:21.815679Z"
    }
   },
   "outputs": [
    {
     "data": {
      "text/plain": [
       "0.2220880926576918"
      ]
     },
     "execution_count": 67,
     "metadata": {},
     "output_type": "execute_result"
    }
   ],
   "source": [
    "a.min()"
   ]
  },
  {
   "cell_type": "code",
   "execution_count": 69,
   "id": "e384a9d3",
   "metadata": {
    "ExecuteTime": {
     "end_time": "2024-02-08T10:43:04.849088Z",
     "start_time": "2024-02-08T10:43:04.834167Z"
    }
   },
   "outputs": [
    {
     "data": {
      "text/plain": [
       "0.2209487436418443"
      ]
     },
     "execution_count": 69,
     "metadata": {},
     "output_type": "execute_result"
    }
   ],
   "source": [
    "a.std()"
   ]
  },
  {
   "cell_type": "code",
   "execution_count": 70,
   "id": "7afa5cae",
   "metadata": {
    "ExecuteTime": {
     "end_time": "2024-02-08T10:43:18.680147Z",
     "start_time": "2024-02-08T10:43:18.670591Z"
    }
   },
   "outputs": [
    {
     "data": {
      "text/plain": [
       "0.048818347316909434"
      ]
     },
     "execution_count": 70,
     "metadata": {},
     "output_type": "execute_result"
    }
   ],
   "source": [
    "a.var()"
   ]
  },
  {
   "cell_type": "markdown",
   "id": "0c68927c",
   "metadata": {},
   "source": [
    "# Stacking \n",
    "- stacking is used to join two arrays.\n",
    "- Vartival Stacking\n",
    "- Horizontal stacking"
   ]
  },
  {
   "cell_type": "code",
   "execution_count": 72,
   "id": "d401c130",
   "metadata": {
    "ExecuteTime": {
     "end_time": "2024-02-08T10:46:25.841432Z",
     "start_time": "2024-02-08T10:46:25.833891Z"
    }
   },
   "outputs": [],
   "source": [
    "a = np.array([1,2,3,4])\n",
    "b = np.array([5,6,7,8])"
   ]
  },
  {
   "cell_type": "code",
   "execution_count": 73,
   "id": "3c017394",
   "metadata": {
    "ExecuteTime": {
     "end_time": "2024-02-08T10:46:56.219895Z",
     "start_time": "2024-02-08T10:46:56.208356Z"
    }
   },
   "outputs": [
    {
     "data": {
      "text/plain": [
       "array([1, 2, 3, 4, 5, 6, 7, 8])"
      ]
     },
     "execution_count": 73,
     "metadata": {},
     "output_type": "execute_result"
    }
   ],
   "source": [
    "np.hstack([a,b])"
   ]
  },
  {
   "cell_type": "code",
   "execution_count": 74,
   "id": "a4330a3e",
   "metadata": {
    "ExecuteTime": {
     "end_time": "2024-02-08T10:47:16.239092Z",
     "start_time": "2024-02-08T10:47:16.228381Z"
    }
   },
   "outputs": [
    {
     "data": {
      "text/plain": [
       "array([[1, 2, 3, 4],\n",
       "       [5, 6, 7, 8]])"
      ]
     },
     "execution_count": 74,
     "metadata": {},
     "output_type": "execute_result"
    }
   ],
   "source": [
    "np.vstack([a,b])"
   ]
  },
  {
   "cell_type": "code",
   "execution_count": null,
   "id": "ebd2973a",
   "metadata": {},
   "outputs": [],
   "source": []
  }
 ],
 "metadata": {
  "kernelspec": {
   "display_name": "Python 3 (ipykernel)",
   "language": "python",
   "name": "python3"
  },
  "language_info": {
   "codemirror_mode": {
    "name": "ipython",
    "version": 3
   },
   "file_extension": ".py",
   "mimetype": "text/x-python",
   "name": "python",
   "nbconvert_exporter": "python",
   "pygments_lexer": "ipython3",
   "version": "3.11.5"
  }
 },
 "nbformat": 4,
 "nbformat_minor": 5
}
