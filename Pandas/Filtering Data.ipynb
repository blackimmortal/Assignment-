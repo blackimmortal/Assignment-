{
 "cells": [
  {
   "cell_type": "markdown",
   "id": "0be0dd81",
   "metadata": {},
   "source": [
    "## Filtering Data\n",
    "- Filtering is widely while working with huge amount of data.\n",
    "- Filtering allow us to extract specific data from the huge data set  for analysis.\n",
    "- A common operation in data analysis is to filter values based on a condition or multiple condition. "
   ]
  },
  {
   "cell_type": "code",
   "execution_count": 1,
   "id": "7cd7113c",
   "metadata": {
    "ExecuteTime": {
     "end_time": "2024-02-07T13:02:24.217087Z",
     "start_time": "2024-02-07T13:02:22.715466Z"
    }
   },
   "outputs": [],
   "source": [
    "import pandas as pd \n",
    "import warnings\n",
    "\n",
    "warnings.filterwarnings('ignore')"
   ]
  },
  {
   "cell_type": "code",
   "execution_count": 2,
   "id": "ae39489a",
   "metadata": {
    "ExecuteTime": {
     "end_time": "2024-02-07T13:02:24.256523Z",
     "start_time": "2024-02-07T13:02:24.217087Z"
    }
   },
   "outputs": [
    {
     "data": {
      "text/html": [
       "<div>\n",
       "<style scoped>\n",
       "    .dataframe tbody tr th:only-of-type {\n",
       "        vertical-align: middle;\n",
       "    }\n",
       "\n",
       "    .dataframe tbody tr th {\n",
       "        vertical-align: top;\n",
       "    }\n",
       "\n",
       "    .dataframe thead th {\n",
       "        text-align: right;\n",
       "    }\n",
       "</style>\n",
       "<table border=\"1\" class=\"dataframe\">\n",
       "  <thead>\n",
       "    <tr style=\"text-align: right;\">\n",
       "      <th></th>\n",
       "      <th>rank</th>\n",
       "      <th>discipline</th>\n",
       "      <th>phd</th>\n",
       "      <th>service</th>\n",
       "      <th>sex</th>\n",
       "      <th>salary</th>\n",
       "    </tr>\n",
       "  </thead>\n",
       "  <tbody>\n",
       "    <tr>\n",
       "      <th>0</th>\n",
       "      <td>Prof</td>\n",
       "      <td>B</td>\n",
       "      <td>56</td>\n",
       "      <td>49</td>\n",
       "      <td>Male</td>\n",
       "      <td>186960</td>\n",
       "    </tr>\n",
       "    <tr>\n",
       "      <th>1</th>\n",
       "      <td>Prof</td>\n",
       "      <td>A</td>\n",
       "      <td>12</td>\n",
       "      <td>6</td>\n",
       "      <td>Male</td>\n",
       "      <td>93000</td>\n",
       "    </tr>\n",
       "    <tr>\n",
       "      <th>2</th>\n",
       "      <td>Prof</td>\n",
       "      <td>A</td>\n",
       "      <td>23</td>\n",
       "      <td>20</td>\n",
       "      <td>Male</td>\n",
       "      <td>110515</td>\n",
       "    </tr>\n",
       "    <tr>\n",
       "      <th>3</th>\n",
       "      <td>Prof</td>\n",
       "      <td>A</td>\n",
       "      <td>40</td>\n",
       "      <td>31</td>\n",
       "      <td>Male</td>\n",
       "      <td>131205</td>\n",
       "    </tr>\n",
       "    <tr>\n",
       "      <th>4</th>\n",
       "      <td>Prof</td>\n",
       "      <td>B</td>\n",
       "      <td>20</td>\n",
       "      <td>18</td>\n",
       "      <td>Male</td>\n",
       "      <td>104800</td>\n",
       "    </tr>\n",
       "  </tbody>\n",
       "</table>\n",
       "</div>"
      ],
      "text/plain": [
       "   rank discipline  phd  service   sex  salary\n",
       "0  Prof          B   56       49  Male  186960\n",
       "1  Prof          A   12        6  Male   93000\n",
       "2  Prof          A   23       20  Male  110515\n",
       "3  Prof          A   40       31  Male  131205\n",
       "4  Prof          B   20       18  Male  104800"
      ]
     },
     "execution_count": 2,
     "metadata": {},
     "output_type": "execute_result"
    }
   ],
   "source": [
    "df = pd.read_csv('Salaries (2).csv')\n",
    "df.head()"
   ]
  },
  {
   "cell_type": "code",
   "execution_count": 3,
   "id": "421c25d5",
   "metadata": {
    "ExecuteTime": {
     "end_time": "2024-02-07T13:02:24.270542Z",
     "start_time": "2024-02-07T13:02:24.256523Z"
    }
   },
   "outputs": [
    {
     "data": {
      "text/plain": [
       "19.705128205128204"
      ]
     },
     "execution_count": 3,
     "metadata": {},
     "output_type": "execute_result"
    }
   ],
   "source": [
    "df['phd'].mean()"
   ]
  },
  {
   "cell_type": "code",
   "execution_count": 4,
   "id": "f3157c66",
   "metadata": {
    "ExecuteTime": {
     "end_time": "2024-02-07T13:02:24.285061Z",
     "start_time": "2024-02-07T13:02:24.270542Z"
    }
   },
   "outputs": [
    {
     "ename": "SyntaxError",
     "evalue": "unterminated string literal (detected at line 1) (3931240504.py, line 1)",
     "output_type": "error",
     "traceback": [
      "\u001b[1;36m  Cell \u001b[1;32mIn[4], line 1\u001b[1;36m\u001b[0m\n\u001b[1;33m    df['service\u001b[0m\n\u001b[1;37m       ^\u001b[0m\n\u001b[1;31mSyntaxError\u001b[0m\u001b[1;31m:\u001b[0m unterminated string literal (detected at line 1)\n"
     ]
    }
   ],
   "source": [
    "df['service\n",
    "'].mean()"
   ]
  },
  {
   "cell_type": "code",
   "execution_count": null,
   "id": "2106f1f3",
   "metadata": {
    "ExecuteTime": {
     "end_time": "2024-02-07T13:02:24.287066Z",
     "start_time": "2024-02-07T13:02:24.287066Z"
    },
    "scrolled": false
   },
   "outputs": [],
   "source": [
    "df[['service', 'phd','salary']].meann()"
   ]
  },
  {
   "cell_type": "code",
   "execution_count": null,
   "id": "f1e04292",
   "metadata": {
    "ExecuteTime": {
     "end_time": "2024-02-07T13:02:24.302706Z",
     "start_time": "2024-02-07T13:02:24.302706Z"
    }
   },
   "outputs": [],
   "source": [
    "df.mean()"
   ]
  },
  {
   "cell_type": "code",
   "execution_count": null,
   "id": "f99e18b6",
   "metadata": {
    "ExecuteTime": {
     "end_time": "2024-02-07T13:02:24.302706Z",
     "start_time": "2024-02-07T13:02:24.302706Z"
    }
   },
   "outputs": [],
   "source": [
    "# gender is female ande  salary is grater than 150000"
   ]
  },
  {
   "cell_type": "code",
   "execution_count": null,
   "id": "d2750681",
   "metadata": {
    "ExecuteTime": {
     "end_time": "2024-02-07T13:02:24.302706Z",
     "start_time": "2024-02-07T13:02:24.302706Z"
    }
   },
   "outputs": [],
   "source": [
    "df.head()"
   ]
  },
  {
   "cell_type": "code",
   "execution_count": null,
   "id": "fbefe9bb",
   "metadata": {
    "ExecuteTime": {
     "end_time": "2024-02-07T13:02:24.318328Z",
     "start_time": "2024-02-07T13:02:24.318328Z"
    }
   },
   "outputs": [],
   "source": [
    "df['sex']== 'Female'"
   ]
  },
  {
   "cell_type": "code",
   "execution_count": null,
   "id": "8b87e9a8",
   "metadata": {
    "ExecuteTime": {
     "end_time": "2024-02-07T13:02:24.318328Z",
     "start_time": "2024-02-07T13:02:24.318328Z"
    }
   },
   "outputs": [],
   "source": [
    "df[df['sex']=='Female']"
   ]
  },
  {
   "cell_type": "code",
   "execution_count": null,
   "id": "2bb72e16",
   "metadata": {
    "ExecuteTime": {
     "end_time": "2024-02-07T13:02:24.318328Z",
     "start_time": "2024-02-07T13:02:24.318328Z"
    }
   },
   "outputs": [],
   "source": [
    "# and and or operaator i,e, & , | \n",
    "# | operatior perform only one condition ie. or operator\n",
    "\n"
   ]
  },
  {
   "cell_type": "code",
   "execution_count": null,
   "id": "7a0e7c11",
   "metadata": {
    "ExecuteTime": {
     "end_time": "2024-02-07T13:02:24.318328Z",
     "start_time": "2024-02-07T13:02:24.318328Z"
    }
   },
   "outputs": [],
   "source": [
    "df[(df['sex']=='Female') & (df['salary'] > 15000)]"
   ]
  },
  {
   "cell_type": "code",
   "execution_count": null,
   "id": "9b864440",
   "metadata": {
    "ExecuteTime": {
     "end_time": "2024-02-07T13:02:24.333953Z",
     "start_time": "2024-02-07T13:02:24.333953Z"
    }
   },
   "outputs": [],
   "source": [
    "df[(df['sex']=='Female') | (df['salary'] > 15000)]"
   ]
  },
  {
   "cell_type": "code",
   "execution_count": null,
   "id": "d761cdad",
   "metadata": {
    "ExecuteTime": {
     "end_time": "2024-02-07T13:02:24.333953Z",
     "start_time": "2024-02-07T13:02:24.333953Z"
    }
   },
   "outputs": [],
   "source": [
    "df1=df[(df['sex']=='Female') & (df['salary'] > 15000)]"
   ]
  },
  {
   "cell_type": "code",
   "execution_count": null,
   "id": "19f5c35b",
   "metadata": {
    "ExecuteTime": {
     "end_time": "2024-02-07T13:02:24.333953Z",
     "start_time": "2024-02-07T13:02:24.333953Z"
    }
   },
   "outputs": [],
   "source": [
    "df1[['service','phd']]"
   ]
  },
  {
   "cell_type": "code",
   "execution_count": null,
   "id": "88e342b8",
   "metadata": {
    "ExecuteTime": {
     "end_time": "2024-02-07T13:02:24.333953Z",
     "start_time": "2024-02-07T13:02:24.333953Z"
    }
   },
   "outputs": [],
   "source": [
    "# What is avarage salary of a  Females?"
   ]
  },
  {
   "cell_type": "code",
   "execution_count": null,
   "id": "2ea5919a",
   "metadata": {
    "ExecuteTime": {
     "end_time": "2024-02-07T13:02:24.349577Z",
     "start_time": "2024-02-07T13:02:24.349577Z"
    }
   },
   "outputs": [],
   "source": [
    "df[df['sex']== 'Female']['salary'].mean()"
   ]
  },
  {
   "cell_type": "code",
   "execution_count": null,
   "id": "61fc86f4",
   "metadata": {
    "ExecuteTime": {
     "end_time": "2024-02-07T13:02:24.349577Z",
     "start_time": "2024-02-07T13:02:24.349577Z"
    }
   },
   "outputs": [],
   "source": [
    "df[df['sex']== 'Male']['salary'].mean()"
   ]
  },
  {
   "cell_type": "code",
   "execution_count": null,
   "id": "385b8038",
   "metadata": {
    "ExecuteTime": {
     "end_time": "2024-02-07T13:02:24.349577Z",
     "start_time": "2024-02-07T13:02:24.349577Z"
    }
   },
   "outputs": [],
   "source": [
    "df[df['sex']== 'Male']['salary'].median()"
   ]
  },
  {
   "cell_type": "code",
   "execution_count": null,
   "id": "78507a3c",
   "metadata": {
    "ExecuteTime": {
     "end_time": "2024-02-07T13:02:24.349577Z",
     "start_time": "2024-02-07T13:02:24.349577Z"
    }
   },
   "outputs": [],
   "source": [
    "#What is the ava salary of rank prof?"
   ]
  },
  {
   "cell_type": "code",
   "execution_count": null,
   "id": "5e4096c5",
   "metadata": {
    "ExecuteTime": {
     "end_time": "2024-02-07T13:02:24.365208Z",
     "start_time": "2024-02-07T13:02:24.365208Z"
    }
   },
   "outputs": [],
   "source": [
    "df['rank'].unique"
   ]
  },
  {
   "cell_type": "code",
   "execution_count": null,
   "id": "13d6a9d8",
   "metadata": {
    "ExecuteTime": {
     "end_time": "2024-02-07T13:02:24.365208Z",
     "start_time": "2024-02-07T13:02:24.365208Z"
    }
   },
   "outputs": [],
   "source": [
    "df[df['rank']== 'Prof']['salary'].mean ()"
   ]
  },
  {
   "cell_type": "code",
   "execution_count": null,
   "id": "ce20528f",
   "metadata": {
    "ExecuteTime": {
     "end_time": "2024-02-07T13:02:24.365208Z",
     "start_time": "2024-02-07T13:02:24.365208Z"
    }
   },
   "outputs": [],
   "source": [
    "#what is ava salary of rank Prof and discipline A? "
   ]
  },
  {
   "cell_type": "code",
   "execution_count": null,
   "id": "c8351693",
   "metadata": {
    "ExecuteTime": {
     "end_time": "2024-02-07T13:02:24.365208Z",
     "start_time": "2024-02-07T13:02:24.365208Z"
    }
   },
   "outputs": [],
   "source": [
    "df[(df['rank']=='Prof') & (df['discipline']== 'A')]"
   ]
  },
  {
   "cell_type": "code",
   "execution_count": null,
   "id": "8a7fff5d",
   "metadata": {
    "ExecuteTime": {
     "end_time": "2024-02-07T13:02:24.380827Z",
     "start_time": "2024-02-07T13:02:24.380827Z"
    }
   },
   "outputs": [],
   "source": [
    "# what is the avarage salary of Associate prof?"
   ]
  },
  {
   "cell_type": "code",
   "execution_count": null,
   "id": "73ded0a5",
   "metadata": {
    "ExecuteTime": {
     "end_time": "2024-02-07T13:02:24.380827Z",
     "start_time": "2024-02-07T13:02:24.380827Z"
    }
   },
   "outputs": [],
   "source": [
    "df['rank'].unique()"
   ]
  },
  {
   "cell_type": "code",
   "execution_count": null,
   "id": "fac3e222",
   "metadata": {
    "ExecuteTime": {
     "end_time": "2024-02-07T13:02:24.387335Z",
     "start_time": "2024-02-07T13:02:24.387335Z"
    }
   },
   "outputs": [],
   "source": [
    "df[df['rank']=='AssocProf']['salary'].mean()"
   ]
  },
  {
   "cell_type": "code",
   "execution_count": null,
   "id": "205cb90e",
   "metadata": {
    "ExecuteTime": {
     "end_time": "2024-02-07T13:02:24.387335Z",
     "start_time": "2024-02-07T13:02:24.387335Z"
    }
   },
   "outputs": [],
   "source": [
    "df[df['rank']== 'AsstProf']['salary'].mean()"
   ]
  },
  {
   "cell_type": "code",
   "execution_count": null,
   "id": "5a6a598a",
   "metadata": {
    "ExecuteTime": {
     "end_time": "2024-02-07T13:02:24.387335Z",
     "start_time": "2024-02-07T13:02:24.387335Z"
    }
   },
   "outputs": [],
   "source": [
    "df[df['rank']== 'Prof']['salary'].mean()"
   ]
  },
  {
   "cell_type": "markdown",
   "id": "23d29bb5",
   "metadata": {},
   "source": [
    "# Grupby function\n",
    "- insted of calculating avarage salaries sepratly 'we can use pandas grupby method."
   ]
  },
  {
   "cell_type": "code",
   "execution_count": null,
   "id": "1b9853ae",
   "metadata": {
    "ExecuteTime": {
     "end_time": "2024-02-07T13:02:24.387335Z",
     "start_time": "2024-02-07T13:02:24.387335Z"
    }
   },
   "outputs": [],
   "source": [
    "#Grupby aggrigate method"
   ]
  },
  {
   "cell_type": "code",
   "execution_count": null,
   "id": "fd123be3",
   "metadata": {
    "ExecuteTime": {
     "end_time": "2024-02-07T13:02:24.387335Z",
     "start_time": "2024-02-07T13:02:24.387335Z"
    }
   },
   "outputs": [],
   "source": [
    "df.groupby('rank')['salary'].mean()"
   ]
  },
  {
   "cell_type": "code",
   "execution_count": null,
   "id": "6dd74920",
   "metadata": {
    "ExecuteTime": {
     "end_time": "2024-02-07T13:02:24.402967Z",
     "start_time": "2024-02-07T13:02:24.402967Z"
    }
   },
   "outputs": [],
   "source": [
    "#min,max,maen,median"
   ]
  },
  {
   "cell_type": "code",
   "execution_count": null,
   "id": "ff2dd5d4",
   "metadata": {
    "ExecuteTime": {
     "end_time": "2024-02-07T13:02:24.402967Z",
     "start_time": "2024-02-07T13:02:24.402967Z"
    }
   },
   "outputs": [],
   "source": [
    "df.groupby('rank')['salary'].agg({'min','max','mean','median'})"
   ]
  },
  {
   "cell_type": "code",
   "execution_count": 7,
   "id": "5fe8fcc6",
   "metadata": {
    "ExecuteTime": {
     "end_time": "2024-02-07T13:03:55.421291Z",
     "start_time": "2024-02-07T13:03:55.403526Z"
    }
   },
   "outputs": [],
   "source": [
    "df = pd.read_csv('nba.csv')"
   ]
  },
  {
   "cell_type": "code",
   "execution_count": 8,
   "id": "e963d5e7",
   "metadata": {
    "ExecuteTime": {
     "end_time": "2024-02-07T13:03:58.892396Z",
     "start_time": "2024-02-07T13:03:58.838243Z"
    }
   },
   "outputs": [
    {
     "data": {
      "text/html": [
       "<div>\n",
       "<style scoped>\n",
       "    .dataframe tbody tr th:only-of-type {\n",
       "        vertical-align: middle;\n",
       "    }\n",
       "\n",
       "    .dataframe tbody tr th {\n",
       "        vertical-align: top;\n",
       "    }\n",
       "\n",
       "    .dataframe thead th {\n",
       "        text-align: right;\n",
       "    }\n",
       "</style>\n",
       "<table border=\"1\" class=\"dataframe\">\n",
       "  <thead>\n",
       "    <tr style=\"text-align: right;\">\n",
       "      <th></th>\n",
       "      <th>Name</th>\n",
       "      <th>Team</th>\n",
       "      <th>Number</th>\n",
       "      <th>Position</th>\n",
       "      <th>Age</th>\n",
       "      <th>Height</th>\n",
       "      <th>Weight</th>\n",
       "      <th>College</th>\n",
       "      <th>Salary</th>\n",
       "    </tr>\n",
       "  </thead>\n",
       "  <tbody>\n",
       "    <tr>\n",
       "      <th>0</th>\n",
       "      <td>Avery Bradley</td>\n",
       "      <td>Boston Celtics</td>\n",
       "      <td>0.0</td>\n",
       "      <td>PG</td>\n",
       "      <td>25.0</td>\n",
       "      <td>6-2</td>\n",
       "      <td>180.0</td>\n",
       "      <td>Texas</td>\n",
       "      <td>7730337.0</td>\n",
       "    </tr>\n",
       "    <tr>\n",
       "      <th>1</th>\n",
       "      <td>Jae Crowder</td>\n",
       "      <td>Boston Celtics</td>\n",
       "      <td>99.0</td>\n",
       "      <td>SF</td>\n",
       "      <td>25.0</td>\n",
       "      <td>6-6</td>\n",
       "      <td>235.0</td>\n",
       "      <td>Marquette</td>\n",
       "      <td>6796117.0</td>\n",
       "    </tr>\n",
       "    <tr>\n",
       "      <th>2</th>\n",
       "      <td>John Holland</td>\n",
       "      <td>Boston Celtics</td>\n",
       "      <td>30.0</td>\n",
       "      <td>SG</td>\n",
       "      <td>27.0</td>\n",
       "      <td>6-5</td>\n",
       "      <td>205.0</td>\n",
       "      <td>Boston University</td>\n",
       "      <td>NaN</td>\n",
       "    </tr>\n",
       "    <tr>\n",
       "      <th>3</th>\n",
       "      <td>R.J. Hunter</td>\n",
       "      <td>Boston Celtics</td>\n",
       "      <td>28.0</td>\n",
       "      <td>SG</td>\n",
       "      <td>22.0</td>\n",
       "      <td>6-5</td>\n",
       "      <td>185.0</td>\n",
       "      <td>Georgia State</td>\n",
       "      <td>1148640.0</td>\n",
       "    </tr>\n",
       "    <tr>\n",
       "      <th>4</th>\n",
       "      <td>Jonas Jerebko</td>\n",
       "      <td>Boston Celtics</td>\n",
       "      <td>8.0</td>\n",
       "      <td>PF</td>\n",
       "      <td>29.0</td>\n",
       "      <td>6-10</td>\n",
       "      <td>231.0</td>\n",
       "      <td>NaN</td>\n",
       "      <td>5000000.0</td>\n",
       "    </tr>\n",
       "    <tr>\n",
       "      <th>...</th>\n",
       "      <td>...</td>\n",
       "      <td>...</td>\n",
       "      <td>...</td>\n",
       "      <td>...</td>\n",
       "      <td>...</td>\n",
       "      <td>...</td>\n",
       "      <td>...</td>\n",
       "      <td>...</td>\n",
       "      <td>...</td>\n",
       "    </tr>\n",
       "    <tr>\n",
       "      <th>453</th>\n",
       "      <td>Shelvin Mack</td>\n",
       "      <td>Utah Jazz</td>\n",
       "      <td>8.0</td>\n",
       "      <td>PG</td>\n",
       "      <td>26.0</td>\n",
       "      <td>6-3</td>\n",
       "      <td>203.0</td>\n",
       "      <td>Butler</td>\n",
       "      <td>2433333.0</td>\n",
       "    </tr>\n",
       "    <tr>\n",
       "      <th>454</th>\n",
       "      <td>Raul Neto</td>\n",
       "      <td>Utah Jazz</td>\n",
       "      <td>25.0</td>\n",
       "      <td>PG</td>\n",
       "      <td>24.0</td>\n",
       "      <td>6-1</td>\n",
       "      <td>179.0</td>\n",
       "      <td>NaN</td>\n",
       "      <td>900000.0</td>\n",
       "    </tr>\n",
       "    <tr>\n",
       "      <th>455</th>\n",
       "      <td>Tibor Pleiss</td>\n",
       "      <td>Utah Jazz</td>\n",
       "      <td>21.0</td>\n",
       "      <td>C</td>\n",
       "      <td>26.0</td>\n",
       "      <td>7-3</td>\n",
       "      <td>256.0</td>\n",
       "      <td>NaN</td>\n",
       "      <td>2900000.0</td>\n",
       "    </tr>\n",
       "    <tr>\n",
       "      <th>456</th>\n",
       "      <td>Jeff Withey</td>\n",
       "      <td>Utah Jazz</td>\n",
       "      <td>24.0</td>\n",
       "      <td>C</td>\n",
       "      <td>26.0</td>\n",
       "      <td>7-0</td>\n",
       "      <td>231.0</td>\n",
       "      <td>Kansas</td>\n",
       "      <td>947276.0</td>\n",
       "    </tr>\n",
       "    <tr>\n",
       "      <th>457</th>\n",
       "      <td>NaN</td>\n",
       "      <td>NaN</td>\n",
       "      <td>NaN</td>\n",
       "      <td>NaN</td>\n",
       "      <td>NaN</td>\n",
       "      <td>NaN</td>\n",
       "      <td>NaN</td>\n",
       "      <td>NaN</td>\n",
       "      <td>NaN</td>\n",
       "    </tr>\n",
       "  </tbody>\n",
       "</table>\n",
       "<p>458 rows × 9 columns</p>\n",
       "</div>"
      ],
      "text/plain": [
       "              Name            Team  Number Position   Age Height  Weight  \\\n",
       "0    Avery Bradley  Boston Celtics     0.0       PG  25.0    6-2   180.0   \n",
       "1      Jae Crowder  Boston Celtics    99.0       SF  25.0    6-6   235.0   \n",
       "2     John Holland  Boston Celtics    30.0       SG  27.0    6-5   205.0   \n",
       "3      R.J. Hunter  Boston Celtics    28.0       SG  22.0    6-5   185.0   \n",
       "4    Jonas Jerebko  Boston Celtics     8.0       PF  29.0   6-10   231.0   \n",
       "..             ...             ...     ...      ...   ...    ...     ...   \n",
       "453   Shelvin Mack       Utah Jazz     8.0       PG  26.0    6-3   203.0   \n",
       "454      Raul Neto       Utah Jazz    25.0       PG  24.0    6-1   179.0   \n",
       "455   Tibor Pleiss       Utah Jazz    21.0        C  26.0    7-3   256.0   \n",
       "456    Jeff Withey       Utah Jazz    24.0        C  26.0    7-0   231.0   \n",
       "457            NaN             NaN     NaN      NaN   NaN    NaN     NaN   \n",
       "\n",
       "               College     Salary  \n",
       "0                Texas  7730337.0  \n",
       "1            Marquette  6796117.0  \n",
       "2    Boston University        NaN  \n",
       "3        Georgia State  1148640.0  \n",
       "4                  NaN  5000000.0  \n",
       "..                 ...        ...  \n",
       "453             Butler  2433333.0  \n",
       "454                NaN   900000.0  \n",
       "455                NaN  2900000.0  \n",
       "456             Kansas   947276.0  \n",
       "457                NaN        NaN  \n",
       "\n",
       "[458 rows x 9 columns]"
      ]
     },
     "execution_count": 8,
     "metadata": {},
     "output_type": "execute_result"
    }
   ],
   "source": [
    "df"
   ]
  },
  {
   "cell_type": "code",
   "execution_count": null,
   "id": "faf57287",
   "metadata": {
    "ExecuteTime": {
     "end_time": "2024-02-07T13:02:24.402967Z",
     "start_time": "2024-02-07T13:02:24.402967Z"
    }
   },
   "outputs": [],
   "source": [
    "df.head()"
   ]
  },
  {
   "cell_type": "code",
   "execution_count": null,
   "id": "65c189db",
   "metadata": {
    "ExecuteTime": {
     "end_time": "2024-02-07T13:02:24.418591Z",
     "start_time": "2024-02-07T13:02:24.418591Z"
    }
   },
   "outputs": [],
   "source": [
    "#extract the data ewhere team is Boston Celtics and weight is less than 100"
   ]
  },
  {
   "cell_type": "code",
   "execution_count": null,
   "id": "011a94e4",
   "metadata": {
    "ExecuteTime": {
     "end_time": "2024-02-07T13:02:24.418591Z",
     "start_time": "2024-02-07T13:02:24.418591Z"
    }
   },
   "outputs": [],
   "source": [
    "df[(df['Team']=='Boston Celtics') & (df['Weight'] < 100)]"
   ]
  },
  {
   "cell_type": "code",
   "execution_count": null,
   "id": "8e18476b",
   "metadata": {
    "ExecuteTime": {
     "end_time": "2024-02-07T13:02:24.418591Z",
     "start_time": "2024-02-07T13:02:24.418591Z"
    }
   },
   "outputs": [],
   "source": [
    "#extract the data ewhere team is Boston Celtics and weight is grater than 100"
   ]
  },
  {
   "cell_type": "code",
   "execution_count": null,
   "id": "68f32596",
   "metadata": {
    "ExecuteTime": {
     "end_time": "2024-02-07T13:02:24.418591Z",
     "start_time": "2024-02-07T13:02:24.418591Z"
    }
   },
   "outputs": [],
   "source": [
    "df[(df['Team']=='Boston Celtics') & (df['Weight'] > 100)]"
   ]
  },
  {
   "cell_type": "code",
   "execution_count": null,
   "id": "4837d17f",
   "metadata": {
    "ExecuteTime": {
     "end_time": "2024-02-07T13:02:24.418591Z",
     "start_time": "2024-02-07T13:02:24.418591Z"
    }
   },
   "outputs": [],
   "source": [
    "#what is the avarage salary of players of Los Angeles Lakers"
   ]
  },
  {
   "cell_type": "code",
   "execution_count": 13,
   "id": "40f079a9",
   "metadata": {
    "ExecuteTime": {
     "end_time": "2024-02-07T13:06:50.871236Z",
     "start_time": "2024-02-07T13:06:50.847729Z"
    }
   },
   "outputs": [
    {
     "data": {
      "text/plain": [
       "array(['Boston Celtics', 'Brooklyn Nets', 'New York Knicks',\n",
       "       'Philadelphia 76ers', 'Toronto Raptors', 'Golden State Warriors',\n",
       "       'Los Angeles Clippers', 'Los Angeles Lakers', 'Phoenix Suns',\n",
       "       'Sacramento Kings', 'Chicago Bulls', 'Cleveland Cavaliers',\n",
       "       'Detroit Pistons', 'Indiana Pacers', 'Milwaukee Bucks',\n",
       "       'Dallas Mavericks', 'Houston Rockets', 'Memphis Grizzlies',\n",
       "       'New Orleans Pelicans', 'San Antonio Spurs', 'Atlanta Hawks',\n",
       "       'Charlotte Hornets', 'Miami Heat', 'Orlando Magic',\n",
       "       'Washington Wizards', 'Denver Nuggets', 'Minnesota Timberwolves',\n",
       "       'Oklahoma City Thunder', 'Portland Trail Blazers', 'Utah Jazz',\n",
       "       nan], dtype=object)"
      ]
     },
     "execution_count": 13,
     "metadata": {},
     "output_type": "execute_result"
    }
   ],
   "source": [
    "df['Team'].unique()"
   ]
  },
  {
   "cell_type": "code",
   "execution_count": null,
   "id": "a6f2cc40",
   "metadata": {
    "ExecuteTime": {
     "end_time": "2024-02-07T13:02:24.434217Z",
     "start_time": "2024-02-07T13:02:24.434217Z"
    }
   },
   "outputs": [],
   "source": [
    "df[df['Team']== 'Los Angeles Lakers']['Salary'].mean()"
   ]
  },
  {
   "cell_type": "code",
   "execution_count": null,
   "id": "b0355944",
   "metadata": {
    "ExecuteTime": {
     "end_time": "2024-02-07T13:02:24.434217Z",
     "start_time": "2024-02-07T13:02:24.434217Z"
    }
   },
   "outputs": [],
   "source": [
    "#what is the avarage salary of thr player based of various position?"
   ]
  },
  {
   "cell_type": "code",
   "execution_count": null,
   "id": "3b8c3e72",
   "metadata": {
    "ExecuteTime": {
     "end_time": "2024-02-07T13:02:24.434217Z",
     "start_time": "2024-02-07T13:02:24.434217Z"
    }
   },
   "outputs": [],
   "source": [
    "df.groupby('Position')['Salary'].mean()"
   ]
  },
  {
   "cell_type": "code",
   "execution_count": null,
   "id": "5287d533",
   "metadata": {
    "ExecuteTime": {
     "end_time": "2024-02-07T13:02:24.434217Z",
     "start_time": "2024-02-07T13:02:24.434217Z"
    }
   },
   "outputs": [],
   "source": [
    "#which players belong to San Diago State collage?"
   ]
  },
  {
   "cell_type": "code",
   "execution_count": null,
   "id": "013f4b07",
   "metadata": {
    "ExecuteTime": {
     "end_time": "2024-02-07T13:02:24.449841Z",
     "start_time": "2024-02-07T13:02:24.449841Z"
    }
   },
   "outputs": [],
   "source": [
    "df[df['College']=='San Diego State']"
   ]
  },
  {
   "cell_type": "code",
   "execution_count": 12,
   "id": "21e521dc",
   "metadata": {
    "ExecuteTime": {
     "end_time": "2024-02-07T13:04:52.230412Z",
     "start_time": "2024-02-07T13:04:52.192921Z"
    }
   },
   "outputs": [
    {
     "data": {
      "text/html": [
       "<div>\n",
       "<style scoped>\n",
       "    .dataframe tbody tr th:only-of-type {\n",
       "        vertical-align: middle;\n",
       "    }\n",
       "\n",
       "    .dataframe tbody tr th {\n",
       "        vertical-align: top;\n",
       "    }\n",
       "\n",
       "    .dataframe thead th {\n",
       "        text-align: right;\n",
       "    }\n",
       "</style>\n",
       "<table border=\"1\" class=\"dataframe\">\n",
       "  <thead>\n",
       "    <tr style=\"text-align: right;\">\n",
       "      <th></th>\n",
       "      <th>Name</th>\n",
       "      <th>Team</th>\n",
       "      <th>Number</th>\n",
       "      <th>Position</th>\n",
       "      <th>Age</th>\n",
       "      <th>Height</th>\n",
       "      <th>Weight</th>\n",
       "      <th>College</th>\n",
       "      <th>Salary</th>\n",
       "    </tr>\n",
       "  </thead>\n",
       "  <tbody>\n",
       "    <tr>\n",
       "      <th>0</th>\n",
       "      <td>Avery Bradley</td>\n",
       "      <td>Boston Celtics</td>\n",
       "      <td>0.0</td>\n",
       "      <td>PG</td>\n",
       "      <td>25.0</td>\n",
       "      <td>6-2</td>\n",
       "      <td>180.0</td>\n",
       "      <td>Texas</td>\n",
       "      <td>7730337.0</td>\n",
       "    </tr>\n",
       "    <tr>\n",
       "      <th>1</th>\n",
       "      <td>Jae Crowder</td>\n",
       "      <td>Boston Celtics</td>\n",
       "      <td>99.0</td>\n",
       "      <td>SF</td>\n",
       "      <td>25.0</td>\n",
       "      <td>6-6</td>\n",
       "      <td>235.0</td>\n",
       "      <td>Marquette</td>\n",
       "      <td>6796117.0</td>\n",
       "    </tr>\n",
       "    <tr>\n",
       "      <th>2</th>\n",
       "      <td>John Holland</td>\n",
       "      <td>Boston Celtics</td>\n",
       "      <td>30.0</td>\n",
       "      <td>SG</td>\n",
       "      <td>27.0</td>\n",
       "      <td>6-5</td>\n",
       "      <td>205.0</td>\n",
       "      <td>Boston University</td>\n",
       "      <td>NaN</td>\n",
       "    </tr>\n",
       "    <tr>\n",
       "      <th>3</th>\n",
       "      <td>R.J. Hunter</td>\n",
       "      <td>Boston Celtics</td>\n",
       "      <td>28.0</td>\n",
       "      <td>SG</td>\n",
       "      <td>22.0</td>\n",
       "      <td>6-5</td>\n",
       "      <td>185.0</td>\n",
       "      <td>Georgia State</td>\n",
       "      <td>1148640.0</td>\n",
       "    </tr>\n",
       "    <tr>\n",
       "      <th>4</th>\n",
       "      <td>Jonas Jerebko</td>\n",
       "      <td>Boston Celtics</td>\n",
       "      <td>8.0</td>\n",
       "      <td>PF</td>\n",
       "      <td>29.0</td>\n",
       "      <td>6-10</td>\n",
       "      <td>231.0</td>\n",
       "      <td>NaN</td>\n",
       "      <td>5000000.0</td>\n",
       "    </tr>\n",
       "  </tbody>\n",
       "</table>\n",
       "</div>"
      ],
      "text/plain": [
       "            Name            Team  Number Position   Age Height  Weight  \\\n",
       "0  Avery Bradley  Boston Celtics     0.0       PG  25.0    6-2   180.0   \n",
       "1    Jae Crowder  Boston Celtics    99.0       SF  25.0    6-6   235.0   \n",
       "2   John Holland  Boston Celtics    30.0       SG  27.0    6-5   205.0   \n",
       "3    R.J. Hunter  Boston Celtics    28.0       SG  22.0    6-5   185.0   \n",
       "4  Jonas Jerebko  Boston Celtics     8.0       PF  29.0   6-10   231.0   \n",
       "\n",
       "             College     Salary  \n",
       "0              Texas  7730337.0  \n",
       "1          Marquette  6796117.0  \n",
       "2  Boston University        NaN  \n",
       "3      Georgia State  1148640.0  \n",
       "4                NaN  5000000.0  "
      ]
     },
     "execution_count": 12,
     "metadata": {},
     "output_type": "execute_result"
    }
   ],
   "source": [
    "df.head()"
   ]
  },
  {
   "cell_type": "code",
   "execution_count": null,
   "id": "b8f86ad9",
   "metadata": {
    "ExecuteTime": {
     "end_time": "2024-02-07T13:02:24.449841Z",
     "start_time": "2024-02-07T13:02:24.449841Z"
    }
   },
   "outputs": [],
   "source": [
    "#which player of  \tBoston Celtics' has the heighst salary?"
   ]
  },
  {
   "cell_type": "code",
   "execution_count": 15,
   "id": "21faadad",
   "metadata": {
    "ExecuteTime": {
     "end_time": "2024-02-07T13:07:46.453333Z",
     "start_time": "2024-02-07T13:07:46.443092Z"
    }
   },
   "outputs": [
    {
     "data": {
      "text/plain": [
       "12000000.0"
      ]
     },
     "execution_count": 15,
     "metadata": {},
     "output_type": "execute_result"
    }
   ],
   "source": [
    "df[df['Team']== 'Boston Celtics']['Salary'].max()"
   ]
  },
  {
   "cell_type": "code",
   "execution_count": null,
   "id": "3040379d",
   "metadata": {},
   "outputs": [],
   "source": []
  }
 ],
 "metadata": {
  "kernelspec": {
   "display_name": "Python 3 (ipykernel)",
   "language": "python",
   "name": "python3"
  },
  "language_info": {
   "codemirror_mode": {
    "name": "ipython",
    "version": 3
   },
   "file_extension": ".py",
   "mimetype": "text/x-python",
   "name": "python",
   "nbconvert_exporter": "python",
   "pygments_lexer": "ipython3",
   "version": "3.11.5"
  }
 },
 "nbformat": 4,
 "nbformat_minor": 5
}
