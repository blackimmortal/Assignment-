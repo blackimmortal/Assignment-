{
 "cells": [
  {
   "cell_type": "code",
   "execution_count": 2,
   "id": "d31494ff",
   "metadata": {
    "ExecuteTime": {
     "end_time": "2024-02-02T10:24:52.994178Z",
     "start_time": "2024-02-02T10:24:52.988587Z"
    }
   },
   "outputs": [],
   "source": [
    "m=\"it's a notebook\"\n"
   ]
  },
  {
   "cell_type": "code",
   "execution_count": 3,
   "id": "36682551",
   "metadata": {
    "ExecuteTime": {
     "end_time": "2024-02-02T10:25:06.027502Z",
     "start_time": "2024-02-02T10:25:06.019478Z"
    }
   },
   "outputs": [
    {
     "data": {
      "text/plain": [
       "\"it's a notebook\""
      ]
     },
     "execution_count": 3,
     "metadata": {},
     "output_type": "execute_result"
    }
   ],
   "source": [
    "m"
   ]
  },
  {
   "cell_type": "code",
   "execution_count": 4,
   "id": "b362ba33",
   "metadata": {
    "ExecuteTime": {
     "end_time": "2024-02-02T10:25:38.830530Z",
     "start_time": "2024-02-02T10:25:38.825633Z"
    }
   },
   "outputs": [],
   "source": [
    "a=500\n",
    "b=25\n"
   ]
  },
  {
   "cell_type": "code",
   "execution_count": 5,
   "id": "8fbc5fb6",
   "metadata": {
    "ExecuteTime": {
     "end_time": "2024-02-02T10:26:04.597548Z",
     "start_time": "2024-02-02T10:26:04.588935Z"
    }
   },
   "outputs": [
    {
     "data": {
      "text/plain": [
       "12500"
      ]
     },
     "execution_count": 5,
     "metadata": {},
     "output_type": "execute_result"
    }
   ],
   "source": [
    "a*b"
   ]
  },
  {
   "cell_type": "code",
   "execution_count": 6,
   "id": "7b94f04e",
   "metadata": {
    "ExecuteTime": {
     "end_time": "2024-02-02T10:26:31.435894Z",
     "start_time": "2024-02-02T10:26:31.427132Z"
    }
   },
   "outputs": [
    {
     "data": {
      "text/plain": [
       "20.0"
      ]
     },
     "execution_count": 6,
     "metadata": {},
     "output_type": "execute_result"
    }
   ],
   "source": [
    "a/b"
   ]
  },
  {
   "cell_type": "code",
   "execution_count": 7,
   "id": "6b89513c",
   "metadata": {
    "ExecuteTime": {
     "end_time": "2024-02-02T10:26:56.364084Z",
     "start_time": "2024-02-02T10:26:56.355419Z"
    }
   },
   "outputs": [
    {
     "data": {
      "text/plain": [
       "0"
      ]
     },
     "execution_count": 7,
     "metadata": {},
     "output_type": "execute_result"
    }
   ],
   "source": [
    "a%b"
   ]
  },
  {
   "cell_type": "code",
   "execution_count": 8,
   "id": "873ebd3f",
   "metadata": {
    "ExecuteTime": {
     "end_time": "2024-02-02T10:30:23.423921Z",
     "start_time": "2024-02-02T10:30:23.418284Z"
    }
   },
   "outputs": [],
   "source": [
    "s1= 'this is pythone'\n",
    "s2= \"this is pythone\"\n",
    "s3= \"'this is pythone'\""
   ]
  },
  {
   "cell_type": "code",
   "execution_count": 9,
   "id": "29e69541",
   "metadata": {
    "ExecuteTime": {
     "end_time": "2024-02-02T10:30:33.250476Z",
     "start_time": "2024-02-02T10:30:33.241015Z"
    }
   },
   "outputs": [
    {
     "data": {
      "text/plain": [
       "True"
      ]
     },
     "execution_count": 9,
     "metadata": {},
     "output_type": "execute_result"
    }
   ],
   "source": [
    "s1==s2"
   ]
  },
  {
   "cell_type": "code",
   "execution_count": 10,
   "id": "38b0d961",
   "metadata": {
    "ExecuteTime": {
     "end_time": "2024-02-02T10:30:38.498218Z",
     "start_time": "2024-02-02T10:30:38.489191Z"
    }
   },
   "outputs": [
    {
     "data": {
      "text/plain": [
       "False"
      ]
     },
     "execution_count": 10,
     "metadata": {},
     "output_type": "execute_result"
    }
   ],
   "source": [
    "s2==s3"
   ]
  },
  {
   "cell_type": "code",
   "execution_count": 13,
   "id": "30102d17",
   "metadata": {
    "ExecuteTime": {
     "end_time": "2024-02-02T10:31:16.794140Z",
     "start_time": "2024-02-02T10:31:16.786077Z"
    }
   },
   "outputs": [
    {
     "data": {
      "text/plain": [
       "False"
      ]
     },
     "execution_count": 13,
     "metadata": {},
     "output_type": "execute_result"
    }
   ],
   "source": [
    "s1==s2==s3\n"
   ]
  },
  {
   "cell_type": "code",
   "execution_count": 14,
   "id": "165c45b1",
   "metadata": {
    "ExecuteTime": {
     "end_time": "2024-02-02T10:31:29.529788Z",
     "start_time": "2024-02-02T10:31:29.521901Z"
    }
   },
   "outputs": [
    {
     "data": {
      "text/plain": [
       "False"
      ]
     },
     "execution_count": 14,
     "metadata": {},
     "output_type": "execute_result"
    }
   ],
   "source": [
    "s1==s3"
   ]
  },
  {
   "cell_type": "markdown",
   "id": "4f86b694",
   "metadata": {},
   "source": []
  },
  {
   "cell_type": "markdown",
   "id": "05186554",
   "metadata": {
    "ExecuteTime": {
     "end_time": "2024-02-02T10:44:05.657605Z",
     "start_time": "2024-02-02T10:44:05.652923Z"
    }
   },
   "source": [
    "### string method"
   ]
  },
  {
   "cell_type": "markdown",
   "id": "6eef3c3d",
   "metadata": {
    "ExecuteTime": {
     "end_time": "2024-02-02T10:44:05.657605Z",
     "start_time": "2024-02-02T10:44:05.652923Z"
    }
   },
   "source": []
  },
  {
   "cell_type": "markdown",
   "id": "0b164264",
   "metadata": {},
   "source": [
    " "
   ]
  },
  {
   "cell_type": "code",
   "execution_count": 16,
   "id": "ba969f3c",
   "metadata": {
    "ExecuteTime": {
     "end_time": "2024-02-02T10:58:04.253302Z",
     "start_time": "2024-02-02T10:58:04.247655Z"
    }
   },
   "outputs": [],
   "source": [
    "s= \"we are learning pythone\""
   ]
  },
  {
   "cell_type": "code",
   "execution_count": 17,
   "id": "5d80a6fb",
   "metadata": {
    "ExecuteTime": {
     "end_time": "2024-02-02T11:00:16.766795Z",
     "start_time": "2024-02-02T11:00:16.758592Z"
    }
   },
   "outputs": [
    {
     "data": {
      "text/plain": [
       "'We are learning pythone'"
      ]
     },
     "execution_count": 17,
     "metadata": {},
     "output_type": "execute_result"
    }
   ],
   "source": [
    "s.capitalize()"
   ]
  },
  {
   "cell_type": "code",
   "execution_count": 18,
   "id": "cab50b99",
   "metadata": {
    "ExecuteTime": {
     "end_time": "2024-02-02T11:04:46.348756Z",
     "start_time": "2024-02-02T11:04:46.341368Z"
    }
   },
   "outputs": [
    {
     "data": {
      "text/plain": [
       "500"
      ]
     },
     "execution_count": 18,
     "metadata": {},
     "output_type": "execute_result"
    }
   ],
   "source": [
    "a"
   ]
  },
  {
   "cell_type": "code",
   "execution_count": 19,
   "id": "35eb1eed",
   "metadata": {
    "ExecuteTime": {
     "end_time": "2024-02-02T11:04:53.564591Z",
     "start_time": "2024-02-02T11:04:53.555555Z"
    }
   },
   "outputs": [
    {
     "data": {
      "text/plain": [
       "'we are learning pythone'"
      ]
     },
     "execution_count": 19,
     "metadata": {},
     "output_type": "execute_result"
    }
   ],
   "source": [
    "s"
   ]
  },
  {
   "cell_type": "code",
   "execution_count": 20,
   "id": "279e3f98",
   "metadata": {
    "ExecuteTime": {
     "end_time": "2024-02-02T11:05:21.812755Z",
     "start_time": "2024-02-02T11:05:21.805218Z"
    }
   },
   "outputs": [
    {
     "data": {
      "text/plain": [
       "1"
      ]
     },
     "execution_count": 20,
     "metadata": {},
     "output_type": "execute_result"
    }
   ],
   "source": [
    "s.count('i')"
   ]
  },
  {
   "cell_type": "code",
   "execution_count": 22,
   "id": "fb2049b2",
   "metadata": {
    "ExecuteTime": {
     "end_time": "2024-02-02T11:06:14.284446Z",
     "start_time": "2024-02-02T11:06:14.276208Z"
    }
   },
   "outputs": [
    {
     "data": {
      "text/plain": [
       "0"
      ]
     },
     "execution_count": 22,
     "metadata": {},
     "output_type": "execute_result"
    }
   ],
   "source": [
    "s.count('I')"
   ]
  },
  {
   "cell_type": "code",
   "execution_count": 23,
   "id": "5533d61c",
   "metadata": {
    "ExecuteTime": {
     "end_time": "2024-02-02T11:11:56.028722Z",
     "start_time": "2024-02-02T11:11:56.019813Z"
    }
   },
   "outputs": [
    {
     "data": {
      "text/plain": [
       "'we are learning pythone'"
      ]
     },
     "execution_count": 23,
     "metadata": {},
     "output_type": "execute_result"
    }
   ],
   "source": [
    "s"
   ]
  },
  {
   "cell_type": "code",
   "execution_count": 25,
   "id": "0cb8e9e9",
   "metadata": {
    "ExecuteTime": {
     "end_time": "2024-02-02T11:12:28.479082Z",
     "start_time": "2024-02-02T11:12:28.470971Z"
    }
   },
   "outputs": [
    {
     "data": {
      "text/plain": [
       "'w-e- -a-r-e- -l-e-a-r-n-i-n-g- -p-y-t-h-o-n-e'"
      ]
     },
     "execution_count": 25,
     "metadata": {},
     "output_type": "execute_result"
    }
   ],
   "source": [
    "\n",
    "'-'.join(s)"
   ]
  },
  {
   "cell_type": "code",
   "execution_count": 28,
   "id": "8e362eb3",
   "metadata": {
    "ExecuteTime": {
     "end_time": "2024-02-02T11:16:59.485538Z",
     "start_time": "2024-02-02T11:16:59.480827Z"
    }
   },
   "outputs": [],
   "source": [
    "s = s.replace(' ','-')"
   ]
  },
  {
   "cell_type": "code",
   "execution_count": 29,
   "id": "97fab03c",
   "metadata": {
    "ExecuteTime": {
     "end_time": "2024-02-02T11:17:12.495525Z",
     "start_time": "2024-02-02T11:17:12.488523Z"
    }
   },
   "outputs": [
    {
     "data": {
      "text/plain": [
       "'we-are-learning-pythone'"
      ]
     },
     "execution_count": 29,
     "metadata": {},
     "output_type": "execute_result"
    }
   ],
   "source": [
    "s"
   ]
  },
  {
   "cell_type": "code",
   "execution_count": 30,
   "id": "52fa86d2",
   "metadata": {
    "ExecuteTime": {
     "end_time": "2024-02-02T11:23:35.816271Z",
     "start_time": "2024-02-02T11:23:35.807120Z"
    }
   },
   "outputs": [
    {
     "data": {
      "text/plain": [
       "['we', 'are', 'learning', 'pythone']"
      ]
     },
     "execution_count": 30,
     "metadata": {},
     "output_type": "execute_result"
    }
   ],
   "source": [
    "s.split('-')"
   ]
  },
  {
   "cell_type": "markdown",
   "id": "69ef6dbf",
   "metadata": {},
   "source": [
    "## typecasting\n"
   ]
  },
  {
   "cell_type": "code",
   "execution_count": 31,
   "id": "dcb289eb",
   "metadata": {
    "ExecuteTime": {
     "end_time": "2024-02-02T11:35:12.306867Z",
     "start_time": "2024-02-02T11:35:12.297075Z"
    }
   },
   "outputs": [
    {
     "data": {
      "text/plain": [
       "float"
      ]
     },
     "execution_count": 31,
     "metadata": {},
     "output_type": "execute_result"
    }
   ],
   "source": [
    "a = 10.8\n",
    "type(a)"
   ]
  },
  {
   "cell_type": "code",
   "execution_count": 32,
   "id": "76633a7a",
   "metadata": {
    "ExecuteTime": {
     "end_time": "2024-02-02T11:35:20.234741Z",
     "start_time": "2024-02-02T11:35:20.225745Z"
    }
   },
   "outputs": [
    {
     "data": {
      "text/plain": [
       "10.8"
      ]
     },
     "execution_count": 32,
     "metadata": {},
     "output_type": "execute_result"
    }
   ],
   "source": [
    "a"
   ]
  },
  {
   "cell_type": "code",
   "execution_count": 33,
   "id": "251f3bdb",
   "metadata": {
    "ExecuteTime": {
     "end_time": "2024-02-02T11:36:00.531415Z",
     "start_time": "2024-02-02T11:36:00.522530Z"
    }
   },
   "outputs": [
    {
     "data": {
      "text/plain": [
       "int"
      ]
     },
     "execution_count": 33,
     "metadata": {},
     "output_type": "execute_result"
    }
   ],
   "source": [
    "a = int(a)\n",
    "type(a)"
   ]
  },
  {
   "cell_type": "code",
   "execution_count": 35,
   "id": "68c4a609",
   "metadata": {
    "ExecuteTime": {
     "end_time": "2024-02-02T11:37:29.544239Z",
     "start_time": "2024-02-02T11:37:29.537611Z"
    }
   },
   "outputs": [
    {
     "name": "stdout",
     "output_type": "stream",
     "text": [
      "<class 'str'>\n"
     ]
    }
   ],
   "source": [
    "a = str(a)\n",
    "print(type(a))\n"
   ]
  },
  {
   "cell_type": "code",
   "execution_count": 36,
   "id": "437a4c37",
   "metadata": {
    "ExecuteTime": {
     "end_time": "2024-02-02T11:37:42.407240Z",
     "start_time": "2024-02-02T11:37:42.401173Z"
    }
   },
   "outputs": [
    {
     "name": "stdout",
     "output_type": "stream",
     "text": [
      "10\n"
     ]
    }
   ],
   "source": [
    "print(a)"
   ]
  },
  {
   "cell_type": "code",
   "execution_count": 37,
   "id": "ecd99219",
   "metadata": {
    "ExecuteTime": {
     "end_time": "2024-02-02T11:43:27.319584Z",
     "start_time": "2024-02-02T11:43:27.311372Z"
    }
   },
   "outputs": [
    {
     "data": {
      "text/plain": [
       "'we-are-learning-pythone'"
      ]
     },
     "execution_count": 37,
     "metadata": {},
     "output_type": "execute_result"
    }
   ],
   "source": [
    "s"
   ]
  },
  {
   "cell_type": "code",
   "execution_count": 40,
   "id": "ec177370",
   "metadata": {
    "ExecuteTime": {
     "end_time": "2024-02-02T11:46:47.034727Z",
     "start_time": "2024-02-02T11:46:47.029481Z"
    }
   },
   "outputs": [],
   "source": [
    "s = s.split('-')"
   ]
  },
  {
   "cell_type": "code",
   "execution_count": 41,
   "id": "b41e35d0",
   "metadata": {
    "ExecuteTime": {
     "end_time": "2024-02-02T11:46:48.011564Z",
     "start_time": "2024-02-02T11:46:48.004454Z"
    }
   },
   "outputs": [
    {
     "data": {
      "text/plain": [
       "['we', 'are', 'learning', 'pythone']"
      ]
     },
     "execution_count": 41,
     "metadata": {},
     "output_type": "execute_result"
    }
   ],
   "source": [
    "s"
   ]
  },
  {
   "cell_type": "code",
   "execution_count": 42,
   "id": "3a5f4822",
   "metadata": {
    "ExecuteTime": {
     "end_time": "2024-02-02T11:46:59.524423Z",
     "start_time": "2024-02-02T11:46:59.517109Z"
    }
   },
   "outputs": [
    {
     "data": {
      "text/plain": [
       "['we', 'are', 'learning', 'pythone']"
      ]
     },
     "execution_count": 42,
     "metadata": {},
     "output_type": "execute_result"
    }
   ],
   "source": [
    "s"
   ]
  },
  {
   "cell_type": "code",
   "execution_count": 47,
   "id": "8b41a4c0",
   "metadata": {
    "ExecuteTime": {
     "end_time": "2024-02-02T11:51:16.737229Z",
     "start_time": "2024-02-02T11:51:16.699930Z"
    }
   },
   "outputs": [
    {
     "ename": "AttributeError",
     "evalue": "'list' object has no attribute 'split'",
     "output_type": "error",
     "traceback": [
      "\u001b[1;31m---------------------------------------------------------------------------\u001b[0m",
      "\u001b[1;31mAttributeError\u001b[0m                            Traceback (most recent call last)",
      "Cell \u001b[1;32mIn[47], line 1\u001b[0m\n\u001b[1;32m----> 1\u001b[0m s\u001b[38;5;241m.\u001b[39msplit(\u001b[38;5;124m'\u001b[39m\u001b[38;5;124m,\u001b[39m\u001b[38;5;124m'\u001b[39m)\n",
      "\u001b[1;31mAttributeError\u001b[0m: 'list' object has no attribute 'split'"
     ]
    }
   ],
   "source": [
    "s.split(',')"
   ]
  },
  {
   "cell_type": "code",
   "execution_count": 46,
   "id": "00f75815",
   "metadata": {
    "ExecuteTime": {
     "end_time": "2024-02-02T11:50:23.939189Z",
     "start_time": "2024-02-02T11:50:23.931922Z"
    }
   },
   "outputs": [
    {
     "data": {
      "text/plain": [
       "['we', 'are', 'learning', 'pythone']"
      ]
     },
     "execution_count": 46,
     "metadata": {},
     "output_type": "execute_result"
    }
   ],
   "source": [
    "s"
   ]
  },
  {
   "cell_type": "markdown",
   "id": "015f2dcb",
   "metadata": {},
   "source": [
    "# Data Structure\n",
    "1.list\n",
    "2.tuple"
   ]
  },
  {
   "cell_type": "markdown",
   "id": "a1c2f09a",
   "metadata": {},
   "source": [
    "# list "
   ]
  },
  {
   "cell_type": "code",
   "execution_count": 1,
   "id": "ef3800cb",
   "metadata": {
    "ExecuteTime": {
     "end_time": "2024-02-03T11:48:53.107767Z",
     "start_time": "2024-02-03T11:48:53.047747Z"
    }
   },
   "outputs": [],
   "source": [
    "lst =[]"
   ]
  },
  {
   "cell_type": "code",
   "execution_count": 2,
   "id": "d5b0b735",
   "metadata": {
    "ExecuteTime": {
     "end_time": "2024-02-03T11:49:29.772089Z",
     "start_time": "2024-02-03T11:49:29.717917Z"
    }
   },
   "outputs": [
    {
     "data": {
      "text/plain": [
       "list"
      ]
     },
     "execution_count": 2,
     "metadata": {},
     "output_type": "execute_result"
    }
   ],
   "source": [
    "type(lst)"
   ]
  },
  {
   "cell_type": "code",
   "execution_count": 7,
   "id": "f25e6db4",
   "metadata": {
    "ExecuteTime": {
     "end_time": "2024-02-03T11:53:58.150983Z",
     "start_time": "2024-02-03T11:53:58.124895Z"
    }
   },
   "outputs": [],
   "source": [
    "lst =[50,10.5,'hello',500]"
   ]
  },
  {
   "cell_type": "code",
   "execution_count": 8,
   "id": "869316c8",
   "metadata": {
    "ExecuteTime": {
     "end_time": "2024-02-03T11:53:59.426321Z",
     "start_time": "2024-02-03T11:53:59.397926Z"
    }
   },
   "outputs": [
    {
     "name": "stdout",
     "output_type": "stream",
     "text": [
      "[50, 10.5, 'hello', 500]\n"
     ]
    }
   ],
   "source": [
    "print(lst)"
   ]
  },
  {
   "cell_type": "code",
   "execution_count": 10,
   "id": "1d3fb4de",
   "metadata": {
    "ExecuteTime": {
     "end_time": "2024-02-03T11:54:47.885777Z",
     "start_time": "2024-02-03T11:54:47.850749Z"
    }
   },
   "outputs": [
    {
     "data": {
      "text/plain": [
       "list"
      ]
     },
     "execution_count": 10,
     "metadata": {},
     "output_type": "execute_result"
    }
   ],
   "source": [
    "type(lst)"
   ]
  },
  {
   "cell_type": "code",
   "execution_count": 12,
   "id": "f946475d",
   "metadata": {
    "ExecuteTime": {
     "end_time": "2024-02-03T11:56:05.651520Z",
     "start_time": "2024-02-03T11:56:05.624284Z"
    }
   },
   "outputs": [],
   "source": [
    "lst1 = list()"
   ]
  },
  {
   "cell_type": "code",
   "execution_count": 13,
   "id": "7e4b47fa",
   "metadata": {
    "ExecuteTime": {
     "end_time": "2024-02-03T11:57:23.112960Z",
     "start_time": "2024-02-03T11:57:23.081692Z"
    }
   },
   "outputs": [
    {
     "data": {
      "text/plain": [
       "list"
      ]
     },
     "execution_count": 13,
     "metadata": {},
     "output_type": "execute_result"
    }
   ],
   "source": [
    "type(lst1)"
   ]
  },
  {
   "cell_type": "code",
   "execution_count": 14,
   "id": "86793495",
   "metadata": {
    "ExecuteTime": {
     "end_time": "2024-02-03T11:58:33.794240Z",
     "start_time": "2024-02-03T11:58:33.767072Z"
    }
   },
   "outputs": [
    {
     "data": {
      "text/plain": [
       "500"
      ]
     },
     "execution_count": 14,
     "metadata": {},
     "output_type": "execute_result"
    }
   ],
   "source": [
    "#acesing element from list\n",
    "lst[3]"
   ]
  },
  {
   "cell_type": "code",
   "execution_count": 15,
   "id": "ab5c0c43",
   "metadata": {
    "ExecuteTime": {
     "end_time": "2024-02-03T11:59:02.247828Z",
     "start_time": "2024-02-03T11:59:02.216068Z"
    }
   },
   "outputs": [
    {
     "data": {
      "text/plain": [
       "[10.5, 'hello']"
      ]
     },
     "execution_count": 15,
     "metadata": {},
     "output_type": "execute_result"
    }
   ],
   "source": [
    "lst[1:3]"
   ]
  },
  {
   "cell_type": "code",
   "execution_count": 18,
   "id": "ad7690dc",
   "metadata": {
    "ExecuteTime": {
     "end_time": "2024-02-03T11:59:55.350854Z",
     "start_time": "2024-02-03T11:59:55.312553Z"
    }
   },
   "outputs": [
    {
     "data": {
      "text/plain": [
       "500"
      ]
     },
     "execution_count": 18,
     "metadata": {},
     "output_type": "execute_result"
    }
   ],
   "source": [
    "lst[-1]"
   ]
  },
  {
   "cell_type": "code",
   "execution_count": 19,
   "id": "68272a0c",
   "metadata": {
    "ExecuteTime": {
     "end_time": "2024-02-03T12:00:10.736928Z",
     "start_time": "2024-02-03T12:00:10.704024Z"
    }
   },
   "outputs": [
    {
     "data": {
      "text/plain": [
       "[50, 10.5, 'hello', 500]"
      ]
     },
     "execution_count": 19,
     "metadata": {},
     "output_type": "execute_result"
    }
   ],
   "source": [
    "lst"
   ]
  },
  {
   "cell_type": "code",
   "execution_count": 24,
   "id": "920104f6",
   "metadata": {
    "ExecuteTime": {
     "end_time": "2024-02-03T12:02:19.888612Z",
     "start_time": "2024-02-03T12:02:19.863240Z"
    }
   },
   "outputs": [
    {
     "ename": "SyntaxError",
     "evalue": "invalid syntax (2861472096.py, line 2)",
     "output_type": "error",
     "traceback": [
      "\u001b[1;36m  Cell \u001b[1;32mIn[24], line 2\u001b[1;36m\u001b[0m\n\u001b[1;33m    add something at ends of lists\u001b[0m\n\u001b[1;37m        ^\u001b[0m\n\u001b[1;31mSyntaxError\u001b[0m\u001b[1;31m:\u001b[0m invalid syntax\n"
     ]
    }
   ],
   "source": [
    "#appned\n",
    "add something at ends of lists\n"
   ]
  },
  {
   "cell_type": "code",
   "execution_count": 21,
   "id": "8e744d34",
   "metadata": {
    "ExecuteTime": {
     "end_time": "2024-02-03T12:01:10.710100Z",
     "start_time": "2024-02-03T12:01:10.693295Z"
    }
   },
   "outputs": [],
   "source": [
    "lst.append(1000)"
   ]
  },
  {
   "cell_type": "code",
   "execution_count": 26,
   "id": "f8a32cc1",
   "metadata": {
    "ExecuteTime": {
     "end_time": "2024-02-03T12:03:40.818901Z",
     "start_time": "2024-02-03T12:03:40.788158Z"
    }
   },
   "outputs": [
    {
     "data": {
      "text/plain": [
       "[50, 10.5, 'hello', 500, 1000]"
      ]
     },
     "execution_count": 26,
     "metadata": {},
     "output_type": "execute_result"
    }
   ],
   "source": [
    "lst\n"
   ]
  },
  {
   "cell_type": "code",
   "execution_count": 27,
   "id": "5336b6aa",
   "metadata": {
    "ExecuteTime": {
     "end_time": "2024-02-03T12:03:42.823760Z",
     "start_time": "2024-02-03T12:03:42.794828Z"
    }
   },
   "outputs": [],
   "source": [
    "#count\n"
   ]
  },
  {
   "cell_type": "code",
   "execution_count": 28,
   "id": "a6821512",
   "metadata": {
    "ExecuteTime": {
     "end_time": "2024-02-03T12:04:06.943921Z",
     "start_time": "2024-02-03T12:04:06.905631Z"
    }
   },
   "outputs": [
    {
     "data": {
      "text/plain": [
       "1"
      ]
     },
     "execution_count": 28,
     "metadata": {},
     "output_type": "execute_result"
    }
   ],
   "source": [
    "lst.count(1000)"
   ]
  },
  {
   "cell_type": "code",
   "execution_count": 29,
   "id": "f0b04450",
   "metadata": {
    "ExecuteTime": {
     "end_time": "2024-02-03T12:04:30.390155Z",
     "start_time": "2024-02-03T12:04:30.354023Z"
    }
   },
   "outputs": [
    {
     "data": {
      "text/plain": [
       "1"
      ]
     },
     "execution_count": 29,
     "metadata": {},
     "output_type": "execute_result"
    }
   ],
   "source": [
    "lst.count(50)"
   ]
  },
  {
   "cell_type": "code",
   "execution_count": 30,
   "id": "85ea8950",
   "metadata": {
    "ExecuteTime": {
     "end_time": "2024-02-03T12:05:05.160739Z",
     "start_time": "2024-02-03T12:05:05.124337Z"
    }
   },
   "outputs": [
    {
     "data": {
      "text/plain": [
       "0"
      ]
     },
     "execution_count": 30,
     "metadata": {},
     "output_type": "execute_result"
    }
   ],
   "source": [
    "lst.count(30)"
   ]
  },
  {
   "cell_type": "code",
   "execution_count": 31,
   "id": "069758e4",
   "metadata": {
    "ExecuteTime": {
     "end_time": "2024-02-03T12:06:27.730658Z",
     "start_time": "2024-02-03T12:06:27.712483Z"
    }
   },
   "outputs": [],
   "source": [
    "#index"
   ]
  },
  {
   "cell_type": "code",
   "execution_count": 32,
   "id": "e5ed39d3",
   "metadata": {
    "ExecuteTime": {
     "end_time": "2024-02-03T12:07:01.037748Z",
     "start_time": "2024-02-03T12:07:01.009218Z"
    }
   },
   "outputs": [
    {
     "data": {
      "text/plain": [
       "1"
      ]
     },
     "execution_count": 32,
     "metadata": {},
     "output_type": "execute_result"
    }
   ],
   "source": [
    "lst.index(10.5)"
   ]
  },
  {
   "cell_type": "code",
   "execution_count": 33,
   "id": "8276f413",
   "metadata": {
    "ExecuteTime": {
     "end_time": "2024-02-03T12:07:12.483751Z",
     "start_time": "2024-02-03T12:07:12.449937Z"
    }
   },
   "outputs": [
    {
     "data": {
      "text/plain": [
       "[50, 10.5, 'hello', 500, 1000]"
      ]
     },
     "execution_count": 33,
     "metadata": {},
     "output_type": "execute_result"
    }
   ],
   "source": [
    "lst"
   ]
  },
  {
   "cell_type": "code",
   "execution_count": 34,
   "id": "5c58933b",
   "metadata": {
    "ExecuteTime": {
     "end_time": "2024-02-03T12:07:30.686391Z",
     "start_time": "2024-02-03T12:07:30.661051Z"
    }
   },
   "outputs": [],
   "source": [
    "#pop"
   ]
  },
  {
   "cell_type": "code",
   "execution_count": 52,
   "id": "9896cf49",
   "metadata": {
    "ExecuteTime": {
     "end_time": "2024-02-03T12:23:21.100970Z",
     "start_time": "2024-02-03T12:23:21.060757Z"
    }
   },
   "outputs": [
    {
     "data": {
      "text/plain": [
       "50"
      ]
     },
     "execution_count": 52,
     "metadata": {},
     "output_type": "execute_result"
    }
   ],
   "source": [
    "lst.pop(-1)"
   ]
  },
  {
   "cell_type": "code",
   "execution_count": 50,
   "id": "fe80e48d",
   "metadata": {
    "ExecuteTime": {
     "end_time": "2024-02-03T12:21:36.690798Z",
     "start_time": "2024-02-03T12:21:36.586662Z"
    }
   },
   "outputs": [
    {
     "ename": "IndexError",
     "evalue": "pop index out of range",
     "output_type": "error",
     "traceback": [
      "\u001b[1;31m---------------------------------------------------------------------------\u001b[0m",
      "\u001b[1;31mIndexError\u001b[0m                                Traceback (most recent call last)",
      "Cell \u001b[1;32mIn[50], line 1\u001b[0m\n\u001b[1;32m----> 1\u001b[0m lst\u001b[38;5;241m.\u001b[39mpop(\u001b[38;5;241m1000\u001b[39m)\n",
      "\u001b[1;31mIndexError\u001b[0m: pop index out of range"
     ]
    }
   ],
   "source": [
    "lst.pop(1000)"
   ]
  },
  {
   "cell_type": "code",
   "execution_count": 54,
   "id": "fea0ff50",
   "metadata": {
    "ExecuteTime": {
     "end_time": "2024-02-03T12:24:10.127849Z",
     "start_time": "2024-02-03T12:24:10.092002Z"
    }
   },
   "outputs": [
    {
     "data": {
      "text/plain": [
       "[1000, 500, 'hello']"
      ]
     },
     "execution_count": 54,
     "metadata": {},
     "output_type": "execute_result"
    }
   ],
   "source": [
    "lst"
   ]
  },
  {
   "cell_type": "code",
   "execution_count": 41,
   "id": "40ef0a3e",
   "metadata": {
    "ExecuteTime": {
     "end_time": "2024-02-03T12:14:09.363466Z",
     "start_time": "2024-02-03T12:14:09.240974Z"
    }
   },
   "outputs": [
    {
     "ename": "IndexError",
     "evalue": "pop index out of range",
     "output_type": "error",
     "traceback": [
      "\u001b[1;31m---------------------------------------------------------------------------\u001b[0m",
      "\u001b[1;31mIndexError\u001b[0m                                Traceback (most recent call last)",
      "Cell \u001b[1;32mIn[41], line 1\u001b[0m\n\u001b[1;32m----> 1\u001b[0m lst\u001b[38;5;241m.\u001b[39mpop(\u001b[38;5;241m500\u001b[39m)\n",
      "\u001b[1;31mIndexError\u001b[0m: pop index out of range"
     ]
    }
   ],
   "source": [
    "lst.pop(500)"
   ]
  },
  {
   "cell_type": "code",
   "execution_count": 42,
   "id": "3d3be451",
   "metadata": {
    "ExecuteTime": {
     "end_time": "2024-02-03T12:16:10.546028Z",
     "start_time": "2024-02-03T12:16:10.529534Z"
    }
   },
   "outputs": [],
   "source": [
    " #reverse"
   ]
  },
  {
   "cell_type": "code",
   "execution_count": 43,
   "id": "7f83bf6b",
   "metadata": {
    "ExecuteTime": {
     "end_time": "2024-02-03T12:16:26.579988Z",
     "start_time": "2024-02-03T12:16:26.560414Z"
    }
   },
   "outputs": [],
   "source": [
    "lst.reverse()"
   ]
  },
  {
   "cell_type": "code",
   "execution_count": 44,
   "id": "cebfff16",
   "metadata": {
    "ExecuteTime": {
     "end_time": "2024-02-03T12:16:40.568023Z",
     "start_time": "2024-02-03T12:16:40.538536Z"
    }
   },
   "outputs": [
    {
     "data": {
      "text/plain": [
       "[1000, 500, 'hello', 10.5, 50]"
      ]
     },
     "execution_count": 44,
     "metadata": {},
     "output_type": "execute_result"
    }
   ],
   "source": [
    "lst"
   ]
  },
  {
   "cell_type": "code",
   "execution_count": 45,
   "id": "9d826706",
   "metadata": {
    "ExecuteTime": {
     "end_time": "2024-02-03T12:18:11.651130Z",
     "start_time": "2024-02-03T12:18:11.633601Z"
    }
   },
   "outputs": [],
   "source": [
    "#remove"
   ]
  },
  {
   "cell_type": "code",
   "execution_count": 46,
   "id": "b7535a89",
   "metadata": {
    "ExecuteTime": {
     "end_time": "2024-02-03T12:18:32.339622Z",
     "start_time": "2024-02-03T12:18:32.312500Z"
    }
   },
   "outputs": [],
   "source": [
    "lst.remove(10.5)"
   ]
  },
  {
   "cell_type": "code",
   "execution_count": 63,
   "id": "e02d81e5",
   "metadata": {
    "ExecuteTime": {
     "end_time": "2024-02-03T12:27:18.354172Z",
     "start_time": "2024-02-03T12:27:18.327975Z"
    }
   },
   "outputs": [
    {
     "data": {
      "text/plain": [
       "[1000, 500, 10.5, 'hello']"
      ]
     },
     "execution_count": 63,
     "metadata": {},
     "output_type": "execute_result"
    }
   ],
   "source": [
    "lst"
   ]
  },
  {
   "cell_type": "code",
   "execution_count": 64,
   "id": "ef062bad",
   "metadata": {
    "ExecuteTime": {
     "end_time": "2024-02-03T12:27:20.576969Z",
     "start_time": "2024-02-03T12:27:20.544138Z"
    }
   },
   "outputs": [
    {
     "data": {
      "text/plain": [
       "[1000, 500, 10.5, 'hello']"
      ]
     },
     "execution_count": 64,
     "metadata": {},
     "output_type": "execute_result"
    }
   ],
   "source": [
    "lst"
   ]
  },
  {
   "cell_type": "code",
   "execution_count": 57,
   "id": "e2311cd7",
   "metadata": {
    "ExecuteTime": {
     "end_time": "2024-02-03T12:25:20.013392Z",
     "start_time": "2024-02-03T12:25:19.973313Z"
    }
   },
   "outputs": [
    {
     "data": {
      "text/plain": [
       "'hello'"
      ]
     },
     "execution_count": 57,
     "metadata": {},
     "output_type": "execute_result"
    }
   ],
   "source": [
    "lst.pop(-1)"
   ]
  },
  {
   "cell_type": "code",
   "execution_count": 58,
   "id": "f9c7402c",
   "metadata": {
    "ExecuteTime": {
     "end_time": "2024-02-03T12:25:29.865374Z",
     "start_time": "2024-02-03T12:25:29.827549Z"
    }
   },
   "outputs": [
    {
     "data": {
      "text/plain": [
       "[1000, 500]"
      ]
     },
     "execution_count": 58,
     "metadata": {},
     "output_type": "execute_result"
    }
   ],
   "source": [
    "lst"
   ]
  },
  {
   "cell_type": "code",
   "execution_count": 59,
   "id": "85d1c952",
   "metadata": {
    "ExecuteTime": {
     "end_time": "2024-02-03T12:26:25.812085Z",
     "start_time": "2024-02-03T12:26:25.782820Z"
    }
   },
   "outputs": [],
   "source": [
    "lst.append(10.5)"
   ]
  },
  {
   "cell_type": "code",
   "execution_count": 60,
   "id": "359b79a4",
   "metadata": {
    "ExecuteTime": {
     "end_time": "2024-02-03T12:26:29.799568Z",
     "start_time": "2024-02-03T12:26:29.758127Z"
    }
   },
   "outputs": [
    {
     "data": {
      "text/plain": [
       "[1000, 500, 10.5]"
      ]
     },
     "execution_count": 60,
     "metadata": {},
     "output_type": "execute_result"
    }
   ],
   "source": [
    "lst"
   ]
  },
  {
   "cell_type": "code",
   "execution_count": 61,
   "id": "0eebe134",
   "metadata": {
    "ExecuteTime": {
     "end_time": "2024-02-03T12:26:45.696042Z",
     "start_time": "2024-02-03T12:26:45.664302Z"
    }
   },
   "outputs": [],
   "source": [
    "lst.append('hello')"
   ]
  },
  {
   "cell_type": "code",
   "execution_count": 62,
   "id": "62323ef0",
   "metadata": {
    "ExecuteTime": {
     "end_time": "2024-02-03T12:26:50.284808Z",
     "start_time": "2024-02-03T12:26:50.242137Z"
    }
   },
   "outputs": [
    {
     "data": {
      "text/plain": [
       "[1000, 500, 10.5, 'hello']"
      ]
     },
     "execution_count": 62,
     "metadata": {},
     "output_type": "execute_result"
    }
   ],
   "source": [
    "lst"
   ]
  },
  {
   "cell_type": "code",
   "execution_count": 65,
   "id": "808d66d8",
   "metadata": {
    "ExecuteTime": {
     "end_time": "2024-02-03T12:28:15.381923Z",
     "start_time": "2024-02-03T12:28:15.355581Z"
    }
   },
   "outputs": [],
   "source": [
    "lst.append('true')"
   ]
  },
  {
   "cell_type": "code",
   "execution_count": 66,
   "id": "7552ea50",
   "metadata": {
    "ExecuteTime": {
     "end_time": "2024-02-03T12:28:19.264435Z",
     "start_time": "2024-02-03T12:28:19.236923Z"
    }
   },
   "outputs": [
    {
     "data": {
      "text/plain": [
       "[1000, 500, 10.5, 'hello', 'true']"
      ]
     },
     "execution_count": 66,
     "metadata": {},
     "output_type": "execute_result"
    }
   ],
   "source": [
    "lst"
   ]
  },
  {
   "cell_type": "code",
   "execution_count": 67,
   "id": "b4947317",
   "metadata": {
    "ExecuteTime": {
     "end_time": "2024-02-03T12:29:21.394255Z",
     "start_time": "2024-02-03T12:29:21.374012Z"
    }
   },
   "outputs": [],
   "source": [
    "#replacing element in list"
   ]
  },
  {
   "cell_type": "code",
   "execution_count": 68,
   "id": "e3e98fdc",
   "metadata": {
    "ExecuteTime": {
     "end_time": "2024-02-03T12:30:00.365694Z",
     "start_time": "2024-02-03T12:30:00.339845Z"
    }
   },
   "outputs": [],
   "source": [
    "lst[4]='false'"
   ]
  },
  {
   "cell_type": "code",
   "execution_count": 69,
   "id": "1722bf9c",
   "metadata": {
    "ExecuteTime": {
     "end_time": "2024-02-03T12:30:07.472478Z",
     "start_time": "2024-02-03T12:30:07.431729Z"
    }
   },
   "outputs": [
    {
     "data": {
      "text/plain": [
       "[1000, 500, 10.5, 'hello', 'false']"
      ]
     },
     "execution_count": 69,
     "metadata": {},
     "output_type": "execute_result"
    }
   ],
   "source": [
    "lst"
   ]
  },
  {
   "cell_type": "markdown",
   "id": "23d4c13e",
   "metadata": {},
   "source": [
    "# tuple "
   ]
  },
  {
   "cell_type": "code",
   "execution_count": 72,
   "id": "98eb25e8",
   "metadata": {
    "ExecuteTime": {
     "end_time": "2024-02-03T12:34:57.447750Z",
     "start_time": "2024-02-03T12:34:57.412269Z"
    }
   },
   "outputs": [],
   "source": [
    "#create a tuple\n",
    "t = (10,55.5,'sagar',99,7000)"
   ]
  },
  {
   "cell_type": "code",
   "execution_count": 73,
   "id": "13ee825d",
   "metadata": {
    "ExecuteTime": {
     "end_time": "2024-02-03T12:34:58.247697Z",
     "start_time": "2024-02-03T12:34:58.214337Z"
    }
   },
   "outputs": [
    {
     "data": {
      "text/plain": [
       "tuple"
      ]
     },
     "execution_count": 73,
     "metadata": {},
     "output_type": "execute_result"
    }
   ],
   "source": [
    "type(t)"
   ]
  },
  {
   "cell_type": "code",
   "execution_count": 74,
   "id": "7c3cf3f2",
   "metadata": {
    "ExecuteTime": {
     "end_time": "2024-02-03T12:35:07.395805Z",
     "start_time": "2024-02-03T12:35:07.365391Z"
    }
   },
   "outputs": [
    {
     "data": {
      "text/plain": [
       "(10, 55.5, 'sagar', 99, 7000)"
      ]
     },
     "execution_count": 74,
     "metadata": {},
     "output_type": "execute_result"
    }
   ],
   "source": [
    "t"
   ]
  },
  {
   "cell_type": "code",
   "execution_count": 75,
   "id": "bab89500",
   "metadata": {
    "ExecuteTime": {
     "end_time": "2024-02-03T12:35:29.759416Z",
     "start_time": "2024-02-03T12:35:29.715457Z"
    }
   },
   "outputs": [
    {
     "data": {
      "text/plain": [
       "1"
      ]
     },
     "execution_count": 75,
     "metadata": {},
     "output_type": "execute_result"
    }
   ],
   "source": [
    "t.count(7000)"
   ]
  },
  {
   "cell_type": "code",
   "execution_count": 76,
   "id": "e229601e",
   "metadata": {
    "ExecuteTime": {
     "end_time": "2024-02-03T12:40:14.618715Z",
     "start_time": "2024-02-03T12:40:14.585872Z"
    }
   },
   "outputs": [
    {
     "data": {
      "text/plain": [
       "3"
      ]
     },
     "execution_count": 76,
     "metadata": {},
     "output_type": "execute_result"
    }
   ],
   "source": [
    "t.index(99)"
   ]
  },
  {
   "cell_type": "code",
   "execution_count": 77,
   "id": "9fa35e85",
   "metadata": {
    "ExecuteTime": {
     "end_time": "2024-02-03T12:40:44.273794Z",
     "start_time": "2024-02-03T12:40:44.250467Z"
    }
   },
   "outputs": [],
   "source": [
    "t = list(t)"
   ]
  },
  {
   "cell_type": "code",
   "execution_count": 78,
   "id": "aa6ebc60",
   "metadata": {
    "ExecuteTime": {
     "end_time": "2024-02-03T12:40:59.243177Z",
     "start_time": "2024-02-03T12:40:59.201535Z"
    }
   },
   "outputs": [
    {
     "data": {
      "text/plain": [
       "list"
      ]
     },
     "execution_count": 78,
     "metadata": {},
     "output_type": "execute_result"
    }
   ],
   "source": [
    "type(t)"
   ]
  },
  {
   "cell_type": "code",
   "execution_count": 79,
   "id": "10953957",
   "metadata": {
    "ExecuteTime": {
     "end_time": "2024-02-03T12:41:22.083642Z",
     "start_time": "2024-02-03T12:41:22.048918Z"
    }
   },
   "outputs": [
    {
     "data": {
      "text/plain": [
       "[10, 55.5, 'sagar', 99, 7000]"
      ]
     },
     "execution_count": 79,
     "metadata": {},
     "output_type": "execute_result"
    }
   ],
   "source": [
    "t"
   ]
  },
  {
   "cell_type": "code",
   "execution_count": 80,
   "id": "404def82",
   "metadata": {
    "ExecuteTime": {
     "end_time": "2024-02-03T12:41:42.399563Z",
     "start_time": "2024-02-03T12:41:42.372832Z"
    }
   },
   "outputs": [],
   "source": [
    "t[4]=200"
   ]
  },
  {
   "cell_type": "code",
   "execution_count": 81,
   "id": "17dbc867",
   "metadata": {
    "ExecuteTime": {
     "end_time": "2024-02-03T12:41:48.710538Z",
     "start_time": "2024-02-03T12:41:48.671874Z"
    }
   },
   "outputs": [
    {
     "data": {
      "text/plain": [
       "[10, 55.5, 'sagar', 99, 200]"
      ]
     },
     "execution_count": 81,
     "metadata": {},
     "output_type": "execute_result"
    }
   ],
   "source": [
    "t"
   ]
  },
  {
   "cell_type": "code",
   "execution_count": 82,
   "id": "b284da57",
   "metadata": {
    "ExecuteTime": {
     "end_time": "2024-02-03T12:42:09.195585Z",
     "start_time": "2024-02-03T12:42:09.163829Z"
    }
   },
   "outputs": [],
   "source": [
    "t= tuple(t)"
   ]
  },
  {
   "cell_type": "code",
   "execution_count": 83,
   "id": "fd4b71a6",
   "metadata": {
    "ExecuteTime": {
     "end_time": "2024-02-03T12:42:12.622712Z",
     "start_time": "2024-02-03T12:42:12.590112Z"
    }
   },
   "outputs": [
    {
     "data": {
      "text/plain": [
       "(10, 55.5, 'sagar', 99, 200)"
      ]
     },
     "execution_count": 83,
     "metadata": {},
     "output_type": "execute_result"
    }
   ],
   "source": [
    "t"
   ]
  },
  {
   "cell_type": "code",
   "execution_count": 84,
   "id": "0d27d0a3",
   "metadata": {
    "ExecuteTime": {
     "end_time": "2024-02-03T12:42:26.103987Z",
     "start_time": "2024-02-03T12:42:26.064502Z"
    }
   },
   "outputs": [
    {
     "data": {
      "text/plain": [
       "tuple"
      ]
     },
     "execution_count": 84,
     "metadata": {},
     "output_type": "execute_result"
    }
   ],
   "source": [
    "type(t)"
   ]
  },
  {
   "cell_type": "markdown",
   "id": "48d4a134",
   "metadata": {},
   "source": [
    "# dictionary\n"
   ]
  },
  {
   "cell_type": "code",
   "execution_count": 85,
   "id": "71bfd03d",
   "metadata": {
    "ExecuteTime": {
     "end_time": "2024-02-03T12:50:39.539886Z",
     "start_time": "2024-02-03T12:50:39.505304Z"
    }
   },
   "outputs": [
    {
     "data": {
      "text/plain": [
       "dict"
      ]
     },
     "execution_count": 85,
     "metadata": {},
     "output_type": "execute_result"
    }
   ],
   "source": [
    "d ={}\n",
    "type(d)"
   ]
  },
  {
   "cell_type": "code",
   "execution_count": 86,
   "id": "02c7f547",
   "metadata": {
    "ExecuteTime": {
     "end_time": "2024-02-03T12:51:05.473984Z",
     "start_time": "2024-02-03T12:51:05.431131Z"
    }
   },
   "outputs": [
    {
     "data": {
      "text/plain": [
       "dict"
      ]
     },
     "execution_count": 86,
     "metadata": {},
     "output_type": "execute_result"
    }
   ],
   "source": [
    "d1 = dict()\n",
    "type(d1)"
   ]
  },
  {
   "cell_type": "code",
   "execution_count": 96,
   "id": "241513a7",
   "metadata": {
    "ExecuteTime": {
     "end_time": "2024-02-03T13:03:34.946745Z",
     "start_time": "2024-02-03T13:03:34.926046Z"
    }
   },
   "outputs": [],
   "source": [
    "d ={1:20, 2:900, 3: 'true' , 4:'sagar'}"
   ]
  },
  {
   "cell_type": "code",
   "execution_count": 90,
   "id": "c36a2e6f",
   "metadata": {
    "ExecuteTime": {
     "end_time": "2024-02-03T13:00:56.180117Z",
     "start_time": "2024-02-03T13:00:56.147739Z"
    }
   },
   "outputs": [
    {
     "data": {
      "text/plain": [
       "{1: 20, 2: 900, 3: 'true', 4: 'sagar'}"
      ]
     },
     "execution_count": 90,
     "metadata": {},
     "output_type": "execute_result"
    }
   ],
   "source": [
    "d"
   ]
  },
  {
   "cell_type": "code",
   "execution_count": 92,
   "id": "7ee74e0c",
   "metadata": {
    "ExecuteTime": {
     "end_time": "2024-02-03T13:01:15.727700Z",
     "start_time": "2024-02-03T13:01:15.693895Z"
    }
   },
   "outputs": [
    {
     "data": {
      "text/plain": [
       "dict"
      ]
     },
     "execution_count": 92,
     "metadata": {},
     "output_type": "execute_result"
    }
   ],
   "source": [
    "type(d)"
   ]
  },
  {
   "cell_type": "code",
   "execution_count": 93,
   "id": "33a2a456",
   "metadata": {
    "ExecuteTime": {
     "end_time": "2024-02-03T13:02:35.253067Z",
     "start_time": "2024-02-03T13:02:35.225149Z"
    }
   },
   "outputs": [
    {
     "data": {
      "text/plain": [
       "{1: 20, 2: 900, 3: 'true', 4: 'sagar'}"
      ]
     },
     "execution_count": 93,
     "metadata": {},
     "output_type": "execute_result"
    }
   ],
   "source": [
    " d"
   ]
  },
  {
   "cell_type": "code",
   "execution_count": 94,
   "id": "e0739801",
   "metadata": {
    "ExecuteTime": {
     "end_time": "2024-02-03T13:02:47.729626Z",
     "start_time": "2024-02-03T13:02:47.713322Z"
    }
   },
   "outputs": [],
   "source": [
    "#get\n"
   ]
  },
  {
   "cell_type": "code",
   "execution_count": 97,
   "id": "6fc0f445",
   "metadata": {
    "ExecuteTime": {
     "end_time": "2024-02-03T13:04:59.858858Z",
     "start_time": "2024-02-03T13:04:59.826974Z"
    }
   },
   "outputs": [
    {
     "data": {
      "text/plain": [
       "900"
      ]
     },
     "execution_count": 97,
     "metadata": {},
     "output_type": "execute_result"
    }
   ],
   "source": [
    "d.get(2)"
   ]
  },
  {
   "cell_type": "code",
   "execution_count": 98,
   "id": "dd52604d",
   "metadata": {
    "ExecuteTime": {
     "end_time": "2024-02-03T13:05:17.234117Z",
     "start_time": "2024-02-03T13:05:17.197260Z"
    }
   },
   "outputs": [
    {
     "data": {
      "text/plain": [
       "dict_items([(1, 20), (2, 900), (3, 'true'), (4, 'sagar')])"
      ]
     },
     "execution_count": 98,
     "metadata": {},
     "output_type": "execute_result"
    }
   ],
   "source": [
    "d.items(\n",
    ")"
   ]
  },
  {
   "cell_type": "code",
   "execution_count": 99,
   "id": "71323f44",
   "metadata": {
    "ExecuteTime": {
     "end_time": "2024-02-03T13:05:32.820374Z",
     "start_time": "2024-02-03T13:05:32.798273Z"
    }
   },
   "outputs": [],
   "source": [
    "#keys"
   ]
  },
  {
   "cell_type": "code",
   "execution_count": 100,
   "id": "7e785021",
   "metadata": {
    "ExecuteTime": {
     "end_time": "2024-02-03T13:05:43.188113Z",
     "start_time": "2024-02-03T13:05:43.150351Z"
    }
   },
   "outputs": [
    {
     "data": {
      "text/plain": [
       "dict_keys([1, 2, 3, 4])"
      ]
     },
     "execution_count": 100,
     "metadata": {},
     "output_type": "execute_result"
    }
   ],
   "source": [
    "d.keys(\n",
    ")"
   ]
  },
  {
   "cell_type": "code",
   "execution_count": 102,
   "id": "cc355b50",
   "metadata": {
    "ExecuteTime": {
     "end_time": "2024-02-03T13:08:08.224606Z",
     "start_time": "2024-02-03T13:08:08.202094Z"
    }
   },
   "outputs": [],
   "source": [
    "#adding values in dictianory (updating)\n"
   ]
  },
  {
   "cell_type": "code",
   "execution_count": 104,
   "id": "43d565ef",
   "metadata": {
    "ExecuteTime": {
     "end_time": "2024-02-03T13:08:55.181295Z",
     "start_time": "2024-02-03T13:08:55.158749Z"
    }
   },
   "outputs": [],
   "source": [
    "d.update({'car':'bmw'\n",
    "         })"
   ]
  },
  {
   "cell_type": "code",
   "execution_count": 105,
   "id": "138bd982",
   "metadata": {
    "ExecuteTime": {
     "end_time": "2024-02-03T13:09:01.792876Z",
     "start_time": "2024-02-03T13:09:01.760738Z"
    }
   },
   "outputs": [
    {
     "data": {
      "text/plain": [
       "{1: 20, 2: 900, 3: 'true', 4: 'sagar', 'car': 'bmw'}"
      ]
     },
     "execution_count": 105,
     "metadata": {},
     "output_type": "execute_result"
    }
   ],
   "source": [
    "d"
   ]
  },
  {
   "cell_type": "code",
   "execution_count": 106,
   "id": "f6a1134c",
   "metadata": {
    "ExecuteTime": {
     "end_time": "2024-02-03T13:09:29.815313Z",
     "start_time": "2024-02-03T13:09:29.778450Z"
    }
   },
   "outputs": [
    {
     "data": {
      "text/plain": [
       "900"
      ]
     },
     "execution_count": 106,
     "metadata": {},
     "output_type": "execute_result"
    }
   ],
   "source": [
    "d.pop(2\n",
    "    )"
   ]
  },
  {
   "cell_type": "code",
   "execution_count": 107,
   "id": "40dafb63",
   "metadata": {
    "ExecuteTime": {
     "end_time": "2024-02-03T13:09:35.624359Z",
     "start_time": "2024-02-03T13:09:35.590625Z"
    }
   },
   "outputs": [
    {
     "data": {
      "text/plain": [
       "{1: 20, 3: 'true', 4: 'sagar', 'car': 'bmw'}"
      ]
     },
     "execution_count": 107,
     "metadata": {},
     "output_type": "execute_result"
    }
   ],
   "source": [
    "d"
   ]
  },
  {
   "cell_type": "code",
   "execution_count": 108,
   "id": "f28dcbb4",
   "metadata": {
    "ExecuteTime": {
     "end_time": "2024-02-03T13:10:04.521642Z",
     "start_time": "2024-02-03T13:10:04.483880Z"
    }
   },
   "outputs": [
    {
     "data": {
      "text/plain": [
       "dict_values([20, 'true', 'sagar', 'bmw'])"
      ]
     },
     "execution_count": 108,
     "metadata": {},
     "output_type": "execute_result"
    }
   ],
   "source": [
    "d.values()"
   ]
  },
  {
   "cell_type": "markdown",
   "id": "4f5d1295",
   "metadata": {},
   "source": [
    "# set\n",
    "- set is a collection which is unorderd and unindexed\n",
    "- Set is immutable\n",
    "- Set is unordred so you cannot be sure in which order the item will apper.\n",
    "- Set do not allow duplicate values.\n",
    "- Once a set is created  you cannot changes its item but u can remove and add new items.\n",
    "- As sets are unordered they do not support indexing and slicing operation "
   ]
  },
  {
   "cell_type": "code",
   "execution_count": 10,
   "id": "5a850ce9",
   "metadata": {
    "ExecuteTime": {
     "end_time": "2024-02-04T10:36:12.946758Z",
     "start_time": "2024-02-04T10:36:12.936631Z"
    }
   },
   "outputs": [
    {
     "data": {
      "text/plain": [
       "set"
      ]
     },
     "execution_count": 10,
     "metadata": {},
     "output_type": "execute_result"
    }
   ],
   "source": [
    "#creating an set\n",
    "s = {1,2,3,10.5,'A'}\n",
    "\n",
    "type(s)\n"
   ]
  },
  {
   "cell_type": "code",
   "execution_count": 11,
   "id": "d056e92c",
   "metadata": {
    "ExecuteTime": {
     "end_time": "2024-02-04T10:36:18.935955Z",
     "start_time": "2024-02-04T10:36:18.927887Z"
    }
   },
   "outputs": [
    {
     "data": {
      "text/plain": [
       "{1, 10.5, 2, 3, 'A'}"
      ]
     },
     "execution_count": 11,
     "metadata": {},
     "output_type": "execute_result"
    }
   ],
   "source": [
    "s"
   ]
  },
  {
   "cell_type": "code",
   "execution_count": 15,
   "id": "6e647af3",
   "metadata": {
    "ExecuteTime": {
     "end_time": "2024-02-04T10:37:51.462720Z",
     "start_time": "2024-02-04T10:37:51.456696Z"
    }
   },
   "outputs": [],
   "source": [
    "#does not allow duplicate items\n",
    "s1 ={1,1,2,2,3,'A'}"
   ]
  },
  {
   "cell_type": "code",
   "execution_count": 17,
   "id": "63da408a",
   "metadata": {
    "ExecuteTime": {
     "end_time": "2024-02-04T10:37:58.887671Z",
     "start_time": "2024-02-04T10:37:58.879953Z"
    }
   },
   "outputs": [
    {
     "data": {
      "text/plain": [
       "{1, 2, 3, 'A'}"
      ]
     },
     "execution_count": 17,
     "metadata": {},
     "output_type": "execute_result"
    }
   ],
   "source": [
    "s1"
   ]
  },
  {
   "cell_type": "code",
   "execution_count": 18,
   "id": "92e285db",
   "metadata": {
    "ExecuteTime": {
     "end_time": "2024-02-04T10:39:41.070525Z",
     "start_time": "2024-02-04T10:39:40.031233Z"
    }
   },
   "outputs": [
    {
     "ename": "TypeError",
     "evalue": "'set' object is not subscriptable",
     "output_type": "error",
     "traceback": [
      "\u001b[1;31m---------------------------------------------------------------------------\u001b[0m",
      "\u001b[1;31mTypeError\u001b[0m                                 Traceback (most recent call last)",
      "Cell \u001b[1;32mIn[18], line 2\u001b[0m\n\u001b[0;32m      1\u001b[0m \u001b[38;5;66;03m#does not support indexing\u001b[39;00m\n\u001b[1;32m----> 2\u001b[0m s1[\u001b[38;5;241m0\u001b[39m]\n",
      "\u001b[1;31mTypeError\u001b[0m: 'set' object is not subscriptable"
     ]
    }
   ],
   "source": [
    "#does not support indexing\n",
    "s1[0]"
   ]
  },
  {
   "cell_type": "code",
   "execution_count": 19,
   "id": "cb43de00",
   "metadata": {
    "ExecuteTime": {
     "end_time": "2024-02-04T10:39:51.773046Z",
     "start_time": "2024-02-04T10:39:51.764278Z"
    }
   },
   "outputs": [
    {
     "data": {
      "text/plain": [
       "{1, 2, 3, 'A'}"
      ]
     },
     "execution_count": 19,
     "metadata": {},
     "output_type": "execute_result"
    }
   ],
   "source": [
    "s1"
   ]
  },
  {
   "cell_type": "code",
   "execution_count": 20,
   "id": "56ff2a93",
   "metadata": {
    "ExecuteTime": {
     "end_time": "2024-02-04T10:42:20.479699Z",
     "start_time": "2024-02-04T10:42:20.474719Z"
    }
   },
   "outputs": [],
   "source": [
    "#add\n",
    "s1.add(100)"
   ]
  },
  {
   "cell_type": "code",
   "execution_count": 21,
   "id": "fb555050",
   "metadata": {
    "ExecuteTime": {
     "end_time": "2024-02-04T10:42:23.590596Z",
     "start_time": "2024-02-04T10:42:23.580925Z"
    }
   },
   "outputs": [
    {
     "data": {
      "text/plain": [
       "{1, 100, 2, 3, 'A'}"
      ]
     },
     "execution_count": 21,
     "metadata": {},
     "output_type": "execute_result"
    }
   ],
   "source": [
    "s1"
   ]
  },
  {
   "cell_type": "code",
   "execution_count": 22,
   "id": "ec5295eb",
   "metadata": {
    "ExecuteTime": {
     "end_time": "2024-02-04T10:45:11.735598Z",
     "start_time": "2024-02-04T10:45:11.729081Z"
    }
   },
   "outputs": [],
   "source": [
    "a = {'apple','mango', 'cherry'}\n",
    "b = {'google', 'microsoft','cherry'}"
   ]
  },
  {
   "cell_type": "code",
   "execution_count": 23,
   "id": "9f451a7a",
   "metadata": {
    "ExecuteTime": {
     "end_time": "2024-02-04T10:51:59.911299Z",
     "start_time": "2024-02-04T10:51:59.903826Z"
    }
   },
   "outputs": [
    {
     "data": {
      "text/plain": [
       "{'apple', 'mango'}"
      ]
     },
     "execution_count": 23,
     "metadata": {},
     "output_type": "execute_result"
    }
   ],
   "source": [
    "#diffrence\n",
    "a.difference(b)"
   ]
  },
  {
   "cell_type": "code",
   "execution_count": 24,
   "id": "68c540b6",
   "metadata": {
    "ExecuteTime": {
     "end_time": "2024-02-04T10:52:17.184274Z",
     "start_time": "2024-02-04T10:52:17.175941Z"
    }
   },
   "outputs": [
    {
     "data": {
      "text/plain": [
       "{'google', 'microsoft'}"
      ]
     },
     "execution_count": 24,
     "metadata": {},
     "output_type": "execute_result"
    }
   ],
   "source": [
    "b.difference(a)"
   ]
  },
  {
   "cell_type": "code",
   "execution_count": 25,
   "id": "0d867157",
   "metadata": {
    "ExecuteTime": {
     "end_time": "2024-02-04T10:54:05.631955Z",
     "start_time": "2024-02-04T10:54:05.623030Z"
    }
   },
   "outputs": [
    {
     "data": {
      "text/plain": [
       "{'cherry'}"
      ]
     },
     "execution_count": 25,
     "metadata": {},
     "output_type": "execute_result"
    }
   ],
   "source": [
    "#intersection\n",
    "#intersection is common value presrnt in both set\n",
    "a.intersection(b)"
   ]
  },
  {
   "cell_type": "code",
   "execution_count": 26,
   "id": "f4cc507a",
   "metadata": {
    "ExecuteTime": {
     "end_time": "2024-02-04T10:55:26.438696Z",
     "start_time": "2024-02-04T10:55:26.429664Z"
    }
   },
   "outputs": [
    {
     "data": {
      "text/plain": [
       "{'apple', 'cherry', 'google', 'mango', 'microsoft'}"
      ]
     },
     "execution_count": 26,
     "metadata": {},
     "output_type": "execute_result"
    }
   ],
   "source": [
    "#union\n",
    "#vales of both the sets\n",
    "a.union(b)"
   ]
  },
  {
   "cell_type": "code",
   "execution_count": 27,
   "id": "4e445897",
   "metadata": {
    "ExecuteTime": {
     "end_time": "2024-02-04T10:56:52.773485Z",
     "start_time": "2024-02-04T10:56:52.765007Z"
    }
   },
   "outputs": [
    {
     "data": {
      "text/plain": [
       "'A'"
      ]
     },
     "execution_count": 27,
     "metadata": {},
     "output_type": "execute_result"
    }
   ],
   "source": [
    "#pop\n",
    "#it randomly remove element bcz it is un ordered\n",
    "s.pop()"
   ]
  },
  {
   "cell_type": "code",
   "execution_count": null,
   "id": "ff5916df",
   "metadata": {},
   "outputs": [],
   "source": []
  }
 ],
 "metadata": {
  "kernelspec": {
   "display_name": "Python 3 (ipykernel)",
   "language": "python",
   "name": "python3"
  },
  "language_info": {
   "codemirror_mode": {
    "name": "ipython",
    "version": 3
   },
   "file_extension": ".py",
   "mimetype": "text/x-python",
   "name": "python",
   "nbconvert_exporter": "python",
   "pygments_lexer": "ipython3",
   "version": "3.11.5"
  }
 },
 "nbformat": 4,
 "nbformat_minor": 5
}
